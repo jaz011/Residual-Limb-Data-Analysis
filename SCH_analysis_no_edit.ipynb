{
 "cells": [
  {
   "cell_type": "code",
   "execution_count": 1,
   "metadata": {
    "collapsed": false
   },
   "outputs": [],
   "source": [
    "import numpy as np\n",
    "import matplotlib.pyplot as plt\n",
    "import pandas as pd\n",
    "import plotly.plotly as py\n",
    "from plotly.graph_objs import *\n",
    "import plotly.tools as tls\n",
    "from plotly import tools\n",
    "import plotly.graph_objs as go\n",
    "import plotly\n",
    "plotly.tools.set_credentials_file(username='rrazaghi', api_key='xnbxzag0vc')\n",
    "\n",
    "from sklearn.preprocessing import StandardScaler\n",
    "%matplotlib notebook\n"
   ]
  },
  {
   "cell_type": "markdown",
   "metadata": {},
   "source": [
    "# Loading the Dataset"
   ]
  },
  {
   "cell_type": "code",
   "execution_count": 2,
   "metadata": {
    "collapsed": false
   },
   "outputs": [],
   "source": [
    "df_good1 = pd.read_csv('./goodfit1.csv')\n",
    "df_good2 = pd.read_csv('./goodfit2.csv')\n",
    "df_good3 = pd.read_csv('./goodfit3.csv')\n",
    "df_poor1 = pd.read_csv('./poorfit1.csv')\n",
    "df_poor2 = pd.read_csv('./poorfit2.csv')\n",
    "df_poor3 = pd.read_csv('./poorfit3.csv')\n"
   ]
  },
  {
   "cell_type": "code",
   "execution_count": 3,
   "metadata": {
    "collapsed": false
   },
   "outputs": [
    {
     "data": {
      "text/html": [
       "<div>\n",
       "<table border=\"1\" class=\"dataframe\">\n",
       "  <thead>\n",
       "    <tr style=\"text-align: right;\">\n",
       "      <th></th>\n",
       "      <th>Time</th>\n",
       "      <th>3R Gastroc Muscle</th>\n",
       "      <th>3R Distal Tibia</th>\n",
       "      <th>3R Tibial Tubercle</th>\n",
       "      <th>3R Fibular Head</th>\n",
       "      <th>3L Gastroc Muscle</th>\n",
       "      <th>3L Distal Tibia</th>\n",
       "      <th>3L Tibial Tubercle</th>\n",
       "      <th>3L Fibular Head</th>\n",
       "      <th>Class</th>\n",
       "      <th>Time (min)</th>\n",
       "      <th>Activity</th>\n",
       "      <th>Unnamed: 12</th>\n",
       "      <th>Unnamed: 13</th>\n",
       "      <th>Unnamed: 14</th>\n",
       "      <th>Unnamed: 15</th>\n",
       "    </tr>\n",
       "  </thead>\n",
       "  <tbody>\n",
       "    <tr>\n",
       "      <th>8759</th>\n",
       "      <td>8759</td>\n",
       "      <td>33.10</td>\n",
       "      <td>31.94</td>\n",
       "      <td>30.51</td>\n",
       "      <td>28.56</td>\n",
       "      <td>29.87</td>\n",
       "      <td>32.36</td>\n",
       "      <td>32.40</td>\n",
       "      <td>32.54</td>\n",
       "      <td>sit rest with px simulator doffed</td>\n",
       "      <td>NaN</td>\n",
       "      <td>NaN</td>\n",
       "      <td>NaN</td>\n",
       "      <td>NaN</td>\n",
       "      <td>NaN</td>\n",
       "      <td>NaN</td>\n",
       "    </tr>\n",
       "    <tr>\n",
       "      <th>8760</th>\n",
       "      <td>8760</td>\n",
       "      <td>33.11</td>\n",
       "      <td>31.94</td>\n",
       "      <td>30.51</td>\n",
       "      <td>28.56</td>\n",
       "      <td>29.86</td>\n",
       "      <td>32.35</td>\n",
       "      <td>32.40</td>\n",
       "      <td>32.54</td>\n",
       "      <td>sit rest with px simulator doffed</td>\n",
       "      <td>NaN</td>\n",
       "      <td>NaN</td>\n",
       "      <td>NaN</td>\n",
       "      <td>NaN</td>\n",
       "      <td>NaN</td>\n",
       "      <td>NaN</td>\n",
       "    </tr>\n",
       "    <tr>\n",
       "      <th>8761</th>\n",
       "      <td>8761</td>\n",
       "      <td>33.10</td>\n",
       "      <td>31.94</td>\n",
       "      <td>30.52</td>\n",
       "      <td>28.56</td>\n",
       "      <td>29.86</td>\n",
       "      <td>32.35</td>\n",
       "      <td>32.41</td>\n",
       "      <td>32.54</td>\n",
       "      <td>sit rest with px simulator doffed</td>\n",
       "      <td>NaN</td>\n",
       "      <td>NaN</td>\n",
       "      <td>NaN</td>\n",
       "      <td>NaN</td>\n",
       "      <td>NaN</td>\n",
       "      <td>NaN</td>\n",
       "    </tr>\n",
       "    <tr>\n",
       "      <th>8762</th>\n",
       "      <td>8762</td>\n",
       "      <td>33.10</td>\n",
       "      <td>31.94</td>\n",
       "      <td>30.52</td>\n",
       "      <td>28.56</td>\n",
       "      <td>29.86</td>\n",
       "      <td>32.36</td>\n",
       "      <td>32.42</td>\n",
       "      <td>32.54</td>\n",
       "      <td>sit rest with px simulator doffed</td>\n",
       "      <td>NaN</td>\n",
       "      <td>NaN</td>\n",
       "      <td>NaN</td>\n",
       "      <td>NaN</td>\n",
       "      <td>NaN</td>\n",
       "      <td>NaN</td>\n",
       "    </tr>\n",
       "    <tr>\n",
       "      <th>8763</th>\n",
       "      <td>8763</td>\n",
       "      <td>33.10</td>\n",
       "      <td>31.95</td>\n",
       "      <td>30.53</td>\n",
       "      <td>28.56</td>\n",
       "      <td>29.86</td>\n",
       "      <td>32.36</td>\n",
       "      <td>32.41</td>\n",
       "      <td>32.54</td>\n",
       "      <td>sit rest with px simulator doffed</td>\n",
       "      <td>NaN</td>\n",
       "      <td>NaN</td>\n",
       "      <td>NaN</td>\n",
       "      <td>NaN</td>\n",
       "      <td>NaN</td>\n",
       "      <td>NaN</td>\n",
       "    </tr>\n",
       "  </tbody>\n",
       "</table>\n",
       "</div>"
      ],
      "text/plain": [
       "      Time  3R Gastroc Muscle  3R Distal Tibia  3R Tibial Tubercle  \\\n",
       "8759  8759              33.10            31.94               30.51   \n",
       "8760  8760              33.11            31.94               30.51   \n",
       "8761  8761              33.10            31.94               30.52   \n",
       "8762  8762              33.10            31.94               30.52   \n",
       "8763  8763              33.10            31.95               30.53   \n",
       "\n",
       "      3R Fibular Head  3L Gastroc Muscle  3L Distal Tibia  3L Tibial Tubercle  \\\n",
       "8759            28.56              29.87            32.36               32.40   \n",
       "8760            28.56              29.86            32.35               32.40   \n",
       "8761            28.56              29.86            32.35               32.41   \n",
       "8762            28.56              29.86            32.36               32.42   \n",
       "8763            28.56              29.86            32.36               32.41   \n",
       "\n",
       "      3L Fibular Head                              Class Time (min) Activity  \\\n",
       "8759            32.54  sit rest with px simulator doffed        NaN      NaN   \n",
       "8760            32.54  sit rest with px simulator doffed        NaN      NaN   \n",
       "8761            32.54  sit rest with px simulator doffed        NaN      NaN   \n",
       "8762            32.54  sit rest with px simulator doffed        NaN      NaN   \n",
       "8763            32.54  sit rest with px simulator doffed        NaN      NaN   \n",
       "\n",
       "      Unnamed: 12  Unnamed: 13  Unnamed: 14  Unnamed: 15  \n",
       "8759          NaN          NaN          NaN          NaN  \n",
       "8760          NaN          NaN          NaN          NaN  \n",
       "8761          NaN          NaN          NaN          NaN  \n",
       "8762          NaN          NaN          NaN          NaN  \n",
       "8763          NaN          NaN          NaN          NaN  "
      ]
     },
     "execution_count": 3,
     "metadata": {},
     "output_type": "execute_result"
    }
   ],
   "source": [
    "df_good3.tail()"
   ]
  },
  {
   "cell_type": "code",
   "execution_count": 4,
   "metadata": {
    "collapsed": false
   },
   "outputs": [],
   "source": [
    "# extracting the dataset into a matrix containing the temperature data and an array containing the class information\n",
    "X_g1 = df_good1.ix[:,1:9].values\n",
    "y_g1 = df_good1.ix[:,9].values\n",
    "X_g2 = df_good2.ix[:,1:9].values\n",
    "y_g2 = df_good2.ix[:,9].values\n",
    "X_g3 = df_good3.ix[:,1:9].values\n",
    "y_g3 = df_good3.ix[:,9].values\n",
    "X_p1 = df_poor1.ix[:,1:9].values\n",
    "y_p1 = df_poor1.ix[:,9].values\n",
    "X_p2 = df_poor2.ix[:,1:9].values\n",
    "y_p2 = df_poor2.ix[:,9].values\n",
    "X_p3 = df_poor3.ix[:,1:9].values\n",
    "y_p3 = df_poor3.ix[:,9].values"
   ]
  },
  {
   "cell_type": "markdown",
   "metadata": {},
   "source": [
    "# Standardizing"
   ]
  },
  {
   "cell_type": "code",
   "execution_count": 5,
   "metadata": {
    "collapsed": false
   },
   "outputs": [],
   "source": [
    "# Here we standardize the data points before feeding them into the PCA algorithm:\n",
    "Xg1_std = StandardScaler().fit_transform(X_g1)\n",
    "Xg2_std = StandardScaler().fit_transform(X_g2)\n",
    "Xg3_std = StandardScaler().fit_transform(X_g3)\n",
    "Xp1_std = StandardScaler().fit_transform(X_p1)\n",
    "Xp2_std = StandardScaler().fit_transform(X_p2)\n",
    "Xp3_std = StandardScaler().fit_transform(X_p3)"
   ]
  },
  {
   "cell_type": "markdown",
   "metadata": {},
   "source": [
    "# Eigendecomposition - Computing Eigenvectors and Eigenvalues"
   ]
  },
  {
   "cell_type": "markdown",
   "metadata": {},
   "source": [
    "Covariance Matrix, Eigenvectors, and Eigenvalues:"
   ]
  },
  {
   "cell_type": "code",
   "execution_count": 6,
   "metadata": {
    "collapsed": false
   },
   "outputs": [
    {
     "name": "stdout",
     "output_type": "stream",
     "text": [
      "Covariance matrix \n",
      "[[ 1.00011461  0.92288055  0.9099399   0.46749589  0.79953475  0.88415634\n",
      "   0.88860384  0.90643156]\n",
      " [ 0.92288055  1.00011461  0.93810683  0.44739292  0.88438843  0.94931778\n",
      "   0.90474184  0.9154363 ]\n",
      " [ 0.9099399   0.93810683  1.00011461  0.67331851  0.86723337  0.8890719\n",
      "   0.91513549  0.91903443]\n",
      " [ 0.46749589  0.44739292  0.67331851  1.00011461  0.44507371  0.35704125\n",
      "   0.54316992  0.51948415]\n",
      " [ 0.79953475  0.88438843  0.86723337  0.44507371  1.00011461  0.96104961\n",
      "   0.96021737  0.95669224]\n",
      " [ 0.88415634  0.94931778  0.8890719   0.35704125  0.96104961  1.00011461\n",
      "   0.95745196  0.96620253]\n",
      " [ 0.88860384  0.90474184  0.91513549  0.54316992  0.96021737  0.95745196\n",
      "   1.00011461  0.99595169]\n",
      " [ 0.90643156  0.9154363   0.91903443  0.51948415  0.95669224  0.96620253\n",
      "   0.99595169  1.00011461]]\n",
      "Eigenvectors \n",
      "[[-0.35680576  0.06776584 -0.63190817  0.5112935   0.10590913  0.4198527\n",
      "   0.07932012  0.11654933]\n",
      " [-0.36725946  0.13113332 -0.33765047 -0.56206169 -0.56039112  0.08597871\n",
      "  -0.11174543 -0.28997547]\n",
      " [-0.3704844  -0.17890671 -0.24094231 -0.34419068  0.70468668 -0.3707283\n",
      "   0.01455084 -0.14134624]\n",
      " [-0.21946968 -0.91766116  0.10336529 -0.00620782 -0.21351001  0.12077217\n",
      "   0.01764639  0.19627609]\n",
      " [-0.36277887  0.15240607  0.54139458 -0.17665706  0.27796623  0.65908116\n",
      "  -0.04872352 -0.08258874]\n",
      " [-0.36948055  0.27395899  0.1234364  -0.13929613 -0.12187492 -0.23714681\n",
      "   0.24260208  0.78983718]\n",
      " [-0.376377    0.03530754  0.26952417  0.34915737 -0.17901912 -0.28224705\n",
      "   0.58235591 -0.46009775]\n",
      " [-0.37762479  0.06763484  0.19224654  0.36281932 -0.09169864 -0.30662029\n",
      "  -0.76179394 -0.03839029]]\n",
      "\n",
      "Eigenvalues \n",
      "[  6.80756089e+00   7.93233257e-01   2.51227036e-01   1.00278578e-01\n",
      "   2.30974625e-02   1.64729942e-02   2.56156089e-03   6.48512624e-03]\n",
      "Covariance matrix \n",
      "[[ 1.00011145  0.92160115  0.77945108  0.60263232  0.82721434  0.81047984\n",
      "   0.76432875  0.76934198]\n",
      " [ 0.92160115  1.00011145  0.85748831  0.71826742  0.72444826  0.74022973\n",
      "   0.70229539  0.70765767]\n",
      " [ 0.77945108  0.85748831  1.00011145  0.8918644   0.80622778  0.89133948\n",
      "   0.89900263  0.89809694]\n",
      " [ 0.60263232  0.71826742  0.8918644   1.00011145  0.75491067  0.79984932\n",
      "   0.79904427  0.7984104 ]\n",
      " [ 0.82721434  0.72444826  0.80622778  0.75491067  1.00011145  0.96828256\n",
      "   0.92111052  0.91974796]\n",
      " [ 0.81047984  0.74022973  0.89133948  0.79984932  0.96828256  1.00011145\n",
      "   0.98447588  0.97818044]\n",
      " [ 0.76432875  0.70229539  0.89900263  0.79904427  0.92111052  0.98447588\n",
      "   1.00011145  0.99421719]\n",
      " [ 0.76934198  0.70765767  0.89809694  0.7984104   0.91974796  0.97818044\n",
      "   0.99421719  1.00011145]]\n",
      "Eigenvectors \n",
      "[[ 0.33465973 -0.55743118 -0.33287131  0.07633647  0.47070208 -0.4881561\n",
      "  -0.02797852 -0.0017764 ]\n",
      " [ 0.3284111  -0.6454759   0.20282485 -0.04751803 -0.2067174   0.61700129\n",
      "   0.0086509  -0.09280952]\n",
      " [ 0.36400356 -0.02400763  0.37489131 -0.45440036 -0.45285183 -0.49330773\n",
      "   0.10501602  0.24585811]\n",
      " [ 0.32962041  0.1981683   0.69817752  0.47259519  0.36160003 -0.0508942\n",
      "  -0.04632672 -0.07609645]\n",
      " [ 0.35977163  0.13596449 -0.35438827  0.60564987 -0.39921969  0.02369258\n",
      "   0.3132248   0.31879108]\n",
      " [ 0.3730465   0.21213162 -0.21584255  0.02962342 -0.27660338 -0.06151365\n",
      "  -0.66417988 -0.49693326]\n",
      " [ 0.36769203  0.29777177 -0.15531507 -0.30868142  0.19881461  0.12844203\n",
      "   0.6055617  -0.48373336]\n",
      " [ 0.36770105  0.28395441 -0.154148   -0.31482591  0.35279606  0.33797584\n",
      "  -0.28287483  0.58530161]]\n",
      "\n",
      "Eigenvalues \n",
      "[  6.82366032e+00   5.76216477e-01   4.15855608e-01   1.31512020e-01\n",
      "   3.00368021e-02   1.39851154e-02   1.84793471e-03   7.77729090e-03]\n",
      "Covariance matrix \n",
      "[[ 1.00011412  0.77629709  0.76063714 -0.28703689  0.47373677  0.72395466\n",
      "   0.77234738  0.80292766]\n",
      " [ 0.77629709  1.00011412  0.94094437  0.09588727  0.79746933  0.9324266\n",
      "   0.92318662  0.95562289]\n",
      " [ 0.76063714  0.94094437  1.00011412  0.24437218  0.8350514   0.91516597\n",
      "   0.844773    0.89335154]\n",
      " [-0.28703689  0.09588727  0.24437218  1.00011412  0.58406621  0.2284173\n",
      "  -0.01559173  0.01262444]\n",
      " [ 0.47373677  0.79746933  0.8350514   0.58406621  1.00011412  0.91221286\n",
      "   0.7780155   0.80635004]\n",
      " [ 0.72395466  0.9324266   0.91516597  0.2284173   0.91221286  1.00011412\n",
      "   0.95041312  0.96988914]\n",
      " [ 0.77234738  0.92318662  0.844773   -0.01559173  0.7780155   0.95041312\n",
      "   1.00011412  0.98730746]\n",
      " [ 0.80292766  0.95562289  0.89335154  0.01262444  0.80635004  0.96988914\n",
      "   0.98730746  1.00011412]]\n",
      "Eigenvectors \n",
      "[[-0.32235104 -0.39644566 -0.63971807  0.52241949 -0.22860528 -0.06672442\n",
      "  -0.00617355 -0.00294689]\n",
      " [-0.39198896 -0.05056725 -0.03231305 -0.58762271 -0.66484957  0.16389943\n",
      "   0.16168361  0.04912697]\n",
      " [-0.38474173  0.06190975 -0.44223767 -0.47309481  0.62877328 -0.12457038\n",
      "   0.03018212 -0.13024418]\n",
      " [-0.06547948  0.81004769 -0.25253092  0.11316786 -0.23772777 -0.36355971\n",
      "  -0.20732198  0.17687224]\n",
      " [-0.35318457  0.38397224  0.1284213   0.30938864  0.03784832  0.48846431\n",
      "   0.24507761 -0.56171141]\n",
      " [-0.39836449  0.06916991  0.1996061   0.18803987  0.22710779  0.23794728\n",
      "   0.23704672  0.77261353]\n",
      " [-0.38657649 -0.12657426  0.44754818  0.11729235 -0.01479152 -0.71827883\n",
      "   0.26314109 -0.1873345 ]\n",
      " [-0.39654219 -0.10965179  0.27154492  0.01771848  0.02480126  0.09925033\n",
      "  -0.86280329 -0.04224848]]\n",
      "\n",
      "Eigenvalues \n",
      "[  6.12134492e+00   1.45037011e+00   2.49696009e-01   1.17703653e-01\n",
      "   3.24222311e-02   1.94618341e-02   1.94210418e-03   7.97207064e-03]\n",
      "Covariance matrix \n",
      "[[ 1.00012412  0.89813692  0.84669064  0.69225658  0.84812707  0.83672024\n",
      "   0.78147427  0.8069366 ]\n",
      " [ 0.89813692  1.00012412  0.80686275  0.83677719  0.78278761  0.71136067\n",
      "   0.62956354  0.6599407 ]\n",
      " [ 0.84669064  0.80686275  1.00012412  0.83840829  0.65070368  0.62582958\n",
      "   0.62238624  0.65872356]\n",
      " [ 0.69225658  0.83677719  0.83840829  1.00012412  0.50873715  0.36982983\n",
      "   0.31380483  0.36004779]\n",
      " [ 0.84812707  0.78278761  0.65070368  0.50873715  1.00012412  0.96344266\n",
      "   0.92760359  0.94025021]\n",
      " [ 0.83672024  0.71136067  0.62582958  0.36982983  0.96344266  1.00012412\n",
      "   0.97885792  0.98272158]\n",
      " [ 0.78147427  0.62956354  0.62238624  0.31380483  0.92760359  0.97885792\n",
      "   1.00012412  0.99414726]\n",
      " [ 0.8069366   0.6599407   0.65872356  0.36004779  0.94025021  0.98272158\n",
      "   0.99414726  1.00012412]]\n",
      "Eigenvectors \n",
      "[[-0.37923197 -0.11556752  0.05432172  0.7354615   0.49070279 -0.23346205\n",
      "  -0.05353013  0.02852303]\n",
      " [-0.35419283 -0.30853129  0.53157205  0.18156338 -0.65106035  0.09943707\n",
      "  -0.16614456  0.0495021 ]\n",
      " [-0.33711151 -0.35417185 -0.71541302  0.05548631 -0.13262624  0.46031622\n",
      "  -0.08537939 -0.09619369]\n",
      " [-0.26878352 -0.62522845  0.06295434 -0.50585878  0.22921652 -0.40594639\n",
      "   0.24409004  0.00870796]\n",
      " [-0.37797139  0.19421477  0.3334354  -0.36121592  0.44855801  0.47750248\n",
      "  -0.37767324 -0.07689055]\n",
      " [-0.37134045  0.31398243  0.09139421  0.02224164 -0.05826051  0.20561794\n",
      "   0.82118556 -0.18615845]\n",
      " [-0.35925774  0.36445256 -0.19680481 -0.12772336 -0.21812822 -0.50376322\n",
      "  -0.28950892 -0.5457931 ]\n",
      " [-0.36745011  0.3255369  -0.20108968 -0.14097658 -0.11411734 -0.18670703\n",
      "  -0.04315925  0.80557413]]\n",
      "\n",
      "Eigenvalues \n",
      "[  6.26905082e+00   1.30179751e+00   2.35678220e-01   1.27944944e-01\n",
      "   4.39064081e-02   1.18554702e-02   6.67293967e-03   4.08661662e-03]\n",
      "Covariance matrix \n",
      "[[ 1.00011325  0.93309456  0.91363508  0.56741934  0.85179347  0.90874209\n",
      "   0.89305525  0.91901127]\n",
      " [ 0.93309456  1.00011325  0.89584461  0.80057121  0.85440783  0.84190988\n",
      "   0.8046623   0.82622381]\n",
      " [ 0.91363508  0.89584461  1.00011325  0.5442258   0.67432183  0.73584306\n",
      "   0.71683235  0.77510681]\n",
      " [ 0.56741934  0.80057121  0.5442258   1.00011325  0.66329706  0.51329223\n",
      "   0.45099601  0.44361927]\n",
      " [ 0.85179347  0.85440783  0.67432183  0.66329706  1.00011325  0.95529258\n",
      "   0.9441022   0.93315305]\n",
      " [ 0.90874209  0.84190988  0.73584306  0.51329223  0.95529258  1.00011325\n",
      "   0.98944515  0.98798153]\n",
      " [ 0.89305525  0.8046623   0.71683235  0.45099601  0.9441022   0.98944515\n",
      "   1.00011325  0.99076983]\n",
      " [ 0.91901127  0.82622381  0.77510681  0.44361927  0.93315305  0.98798153\n",
      "   0.99076983  1.00011325]]\n",
      "Eigenvectors \n",
      "[[ 0.37435045  0.03355831  0.30788347  0.71176339 -0.42296699  0.05205466\n",
      "   0.27160188 -0.04424798]\n",
      " [ 0.36877539 -0.30831891  0.14745479  0.21935361  0.26213057 -0.00125363\n",
      "  -0.77761896  0.16024976]\n",
      " [ 0.33361083 -0.14016777  0.70674689 -0.54734704 -0.02917441 -0.19139058\n",
      "   0.17480199 -0.04404116]\n",
      " [ 0.25738871 -0.78361221 -0.35728547 -0.03940645  0.10945052  0.1554492\n",
      "   0.39273363  0.01065824]\n",
      " [ 0.36775934  0.05663681 -0.43077938 -0.29489361 -0.6668925  -0.25860588\n",
      "  -0.25849626 -0.10280709]\n",
      " [ 0.37314462  0.24792112 -0.18826374  0.11072369  0.49100842 -0.37331279\n",
      "   0.117108   -0.59785387]\n",
      " [ 0.36635789  0.32615214 -0.1812552  -0.02572949  0.22285683 -0.19055581\n",
      "   0.23575589  0.76441723]\n",
      " [ 0.37097085  0.31475443 -0.04952994 -0.2103598   0.06368585  0.8330324\n",
      "  -0.02510556 -0.13407707]]\n",
      "\n",
      "Eigenvalues \n",
      "[  6.65096696e+00   8.11914375e-01   4.64714580e-01   3.82376503e-02\n",
      "   1.72020276e-02   1.92062865e-03   8.45646484e-03   7.49331503e-03]\n",
      "Covariance matrix \n",
      "[[ 1.00011613  0.91436206  0.48894953  0.58422568  0.81594894  0.79875644\n",
      "   0.78135576  0.78879904]\n",
      " [ 0.91436206  1.00011613  0.68999284  0.78502914  0.81302501  0.73648583\n",
      "   0.71675548  0.75973269]\n",
      " [ 0.48894953  0.68999284  1.00011613  0.57207324  0.46111312  0.41070205\n",
      "   0.3836344   0.47444195]\n",
      " [ 0.58422568  0.78502914  0.57207324  1.00011613  0.43135659  0.26516284\n",
      "   0.23288969  0.30257657]\n",
      " [ 0.81594894  0.81302501  0.46111312  0.43135659  1.00011613  0.96868664\n",
      "   0.96246321  0.97322544]\n",
      " [ 0.79875644  0.73648583  0.41070205  0.26516284  0.96868664  1.00011613\n",
      "   0.99336137  0.99193972]\n",
      " [ 0.78135576  0.71675548  0.3836344   0.23288969  0.96246321  0.99336137\n",
      "   1.00011613  0.99149897]\n",
      " [ 0.78879904  0.75973269  0.47444195  0.30257657  0.97322544  0.99193972\n",
      "   0.99149897  1.00011613]]\n",
      "Eigenvectors \n",
      "[[ 0.37359887  0.08203477  0.34174446  0.74777344  0.38483942 -0.09669846\n",
      "  -0.12859495 -0.06124664]\n",
      " [ 0.37987726  0.29239673  0.14852391  0.16439611 -0.82918022 -0.0213772\n",
      "   0.18152835 -0.0127523 ]\n",
      " [ 0.2534204   0.45213707 -0.82861471  0.12035873  0.14469695 -0.06095756\n",
      "  -0.03109089  0.06813169]\n",
      " [ 0.2315996   0.64274585  0.39036174 -0.48610243  0.2907857   0.23552603\n",
      "  -0.03930642  0.05465987]\n",
      " [ 0.39531521 -0.17136657  0.04849086 -0.35552366  0.0590262  -0.81995768\n",
      "  -0.09719232 -0.01870595]\n",
      " [ 0.3838053  -0.29824489 -0.0468243  -0.07094837  0.21533523  0.19189161\n",
      "   0.79908861  0.18650211]\n",
      " [ 0.37857005 -0.32711265 -0.04537384 -0.07957745 -0.09462515  0.3221676\n",
      "  -0.50763753  0.60897368]\n",
      " [ 0.38905137 -0.25476475 -0.1247561  -0.15894553 -0.00761438  0.34359736\n",
      "  -0.20570453 -0.76320031]]\n",
      "\n",
      "Eigenvalues \n",
      "[  5.92081297e+00   1.35772516e+00   4.93940997e-01   1.85510282e-01\n",
      "   1.96648430e-02   1.52346090e-02   5.63620230e-03   2.40398421e-03]\n"
     ]
    }
   ],
   "source": [
    "def eigendecomp(X_std):\n",
    "    \n",
    "    cov_mat = np.cov(X_std.T)\n",
    "    print('Covariance matrix \\n%s' %cov_mat)\n",
    "\n",
    "    eig_vals, eig_vecs = np.linalg.eig(cov_mat)\n",
    "\n",
    "    print('Eigenvectors \\n%s' %eig_vecs)\n",
    "    print('\\nEigenvalues \\n%s' %eig_vals)\n",
    "\n",
    "    return eig_vals, eig_vecs\n",
    "eig_vals_g1, eig_vecs_g1 = eigendecomp(Xg1_std)\n",
    "eig_vals_g2, eig_vecs_g2 = eigendecomp(Xg2_std)\n",
    "eig_vals_g3, eig_vecs_g3 = eigendecomp(Xg3_std)\n",
    "eig_vals_p1, eig_vecs_p1 = eigendecomp(Xp1_std)\n",
    "eig_vals_p2, eig_vecs_p2 = eigendecomp(Xp2_std)\n",
    "eig_vals_p3, eig_vecs_p3 = eigendecomp(Xp3_std)"
   ]
  },
  {
   "cell_type": "markdown",
   "metadata": {},
   "source": [
    "# Selecting Principal Components"
   ]
  },
  {
   "cell_type": "markdown",
   "metadata": {},
   "source": [
    "The typical goal of a PCA is to reduce the dimensionality of the original feature space by projecting it onto a smaller subspace, where the eigenvectors will form the axes. However, the eigenvectors only define the directions of the new axis, since they have all the same unit length 1, which can confirmed by the following two lines of code:"
   ]
  },
  {
   "cell_type": "code",
   "execution_count": 7,
   "metadata": {
    "collapsed": false
   },
   "outputs": [
    {
     "name": "stdout",
     "output_type": "stream",
     "text": [
      "Everything ok!\n"
     ]
    }
   ],
   "source": [
    "for ev in eig_vecs_g1:\n",
    "    np.testing.assert_array_almost_equal(1.0, np.linalg.norm(ev))\n",
    "print('Everything ok!')"
   ]
  },
  {
   "cell_type": "code",
   "execution_count": 8,
   "metadata": {
    "collapsed": false
   },
   "outputs": [
    {
     "name": "stdout",
     "output_type": "stream",
     "text": [
      "Eigenvalues in descending order:\n",
      "6.80756089031\n",
      "0.793233257385\n",
      "0.251227036391\n",
      "0.100278577595\n",
      "0.0230974624518\n",
      "0.0164729941817\n",
      "0.0064851262427\n",
      "0.00256156088798\n",
      "Eigenvalues in descending order:\n",
      "6.82366031578\n",
      "0.57621647684\n",
      "0.415855607999\n",
      "0.131512019892\n",
      "0.0300368020564\n",
      "0.0139851154078\n",
      "0.00777729089578\n",
      "0.00184793471348\n",
      "Eigenvalues in descending order:\n",
      "6.12134491692\n",
      "1.4503701102\n",
      "0.249696009173\n",
      "0.11770365302\n",
      "0.0324222311005\n",
      "0.0194618341273\n",
      "0.00797207064392\n",
      "0.00194210418315\n",
      "Eigenvalues in descending order:\n",
      "6.26905081885\n",
      "1.30179750754\n",
      "0.235678220125\n",
      "0.127944944356\n",
      "0.0439064080655\n",
      "0.0118554701743\n",
      "0.0066729396745\n",
      "0.00408661662431\n",
      "Eigenvalues in descending order:\n",
      "6.65096696129\n",
      "0.8119143746\n",
      "0.464714579893\n",
      "0.0382376503121\n",
      "0.0172020276411\n",
      "0.00845646484439\n",
      "0.00749331502672\n",
      "0.00192062865252\n",
      "Eigenvalues in descending order:\n",
      "5.92081297072\n",
      "1.35772515649\n",
      "0.493940996562\n",
      "0.185510282048\n",
      "0.0196648429544\n",
      "0.0152346089591\n",
      "0.00563620230104\n",
      "0.00240398421062\n"
     ]
    }
   ],
   "source": [
    "def eigensort(eig_vals, eig_vecs):\n",
    "    # Make a list of (eigenvalue, eigenvector) tuples\n",
    "    eig_pairs = [(np.abs(eig_vals[i]), eig_vecs[:,i]) for i in range(len(eig_vals))]\n",
    "\n",
    "    # Sort the (eigenvalue, eigenvector) tuples from high to low\n",
    "    eig_pairs.sort()\n",
    "    eig_pairs.reverse()\n",
    "\n",
    "    # Visually confirm that the list is correctly sorted by decreasing eigenvalues\n",
    "    print('Eigenvalues in descending order:')\n",
    "    for i in eig_pairs:\n",
    "        print(i[0])\n",
    "    return eig_pairs\n",
    "eig_pairs_g1 = eigensort(eig_vals_g1, eig_vecs_g1)\n",
    "eig_pairs_g2 = eigensort(eig_vals_g2, eig_vecs_g2)\n",
    "eig_pairs_g3 = eigensort(eig_vals_g3, eig_vecs_g3)\n",
    "eig_pairs_p1 = eigensort(eig_vals_p1, eig_vecs_p1)\n",
    "eig_pairs_p2 = eigensort(eig_vals_p2, eig_vecs_p2)\n",
    "eig_pairs_p3 = eigensort(eig_vals_p3, eig_vecs_p3)\n"
   ]
  },
  {
   "cell_type": "markdown",
   "metadata": {},
   "source": [
    "# Explained Variance"
   ]
  },
  {
   "cell_type": "markdown",
   "metadata": {},
   "source": [
    "After sorting the eigenpairs, the next question is \"how many principal components are we going to choose for our new feature subspace?\" A useful measure is the so-called \"explained variance,\" which can be calculated from the eigenvalues. The explained variance tells us how much information (variance) can be attributed to each of the principal components."
   ]
  },
  {
   "cell_type": "code",
   "execution_count": 9,
   "metadata": {
    "collapsed": false
   },
   "outputs": [
    {
     "name": "stdout",
     "output_type": "stream",
     "text": [
      "This is the format of your plot grid:\n",
      "[ (1,1) x1,y1 ]  [ (1,2) x2,y2 ]\n",
      "[ (2,1) x3,y3 ]  [ (2,2) x4,y4 ]\n",
      "[ (3,1) x5,y5 ]  [ (3,2) x6,y6 ]\n",
      "\n"
     ]
    },
    {
     "data": {
      "text/html": [
       "<iframe id=\"igraph\" scrolling=\"no\" style=\"border:none;\" seamless=\"seamless\" src=\"https://plot.ly/~rrazaghi/164.embed\" height=\"525px\" width=\"100%\"></iframe>"
      ],
      "text/plain": [
       "<plotly.tools.PlotlyDisplay object>"
      ]
     },
     "execution_count": 9,
     "metadata": {},
     "output_type": "execute_result"
    }
   ],
   "source": [
    "def explainedVar(eig_vals):\n",
    "    tot = sum(eig_vals_g1)\n",
    "    var_exp = [(i / tot)*100 for i in sorted(eig_vals_g1, reverse=True)]\n",
    "    return var_exp\n",
    "varexp_g1 = explainedVar(eig_vals_g1); varexp_g2 = explainedVar(eig_vals_g2);varexp_g3 = explainedVar(eig_vals_g3);\n",
    "varexp_p1 = explainedVar(eig_vals_p1); varexp_p2 = explainedVar(eig_vals_p2);varexp_p3 = explainedVar(eig_vals_p3);\n",
    "#cum_var_exp = np.cumsum(var_exp)\n",
    "\n",
    "trace1 = go.Bar(\n",
    "        x=['PC %s' %i for i in range(1,9)],\n",
    "        y=varexp_g1,\n",
    "        showlegend=True)\n",
    "trace2 = go.Bar(\n",
    "        x=['PC %s' %i for i in range(1,9)],\n",
    "        y=varexp_g2,\n",
    "        showlegend=False)\n",
    "trace3 = go.Bar(\n",
    "        x=['PC %s' %i for i in range(1,9)],\n",
    "        y=varexp_g3,\n",
    "        showlegend=False)\n",
    "trace4 = go.Bar(\n",
    "        x=['PC %s' %i for i in range(1,9)],\n",
    "        y=varexp_p1,\n",
    "        showlegend=False)\n",
    "trace5 = go.Bar(\n",
    "        x=['PC %s' %i for i in range(1,9)],\n",
    "        y=varexp_p2,\n",
    "        showlegend=False)\n",
    "trace6 = Bar(\n",
    "        x=['PC %s' %i for i in range(1,9)],\n",
    "        y=varexp_p3,\n",
    "        showlegend=False)\n",
    "\n",
    "#trace2 = Scatter(x=['PC %s' %i for i in range(1,9)], y=cum_var_exp,name='cumulative explained variance')\n",
    "\n",
    "#data = Data([trace1, trace2])\n",
    "\n",
    "#layout=Layout(yaxis=YAxis(title='Explained variance in percent'),title='Explained variance by different principal components for the good fit trial 1')\n",
    "    \n",
    "fig = tools.make_subplots(rows=3, cols=2,\n",
    "                          subplot_titles=('good fit 1','poor fit 1','good fit 2', 'poor fit 2','good fit 3', 'poor fit 3'),\n",
    "                          specs=[[{}, {}], [{}, {}], [{}, {}]],\n",
    "                          horizontal_spacing = 0.1, vertical_spacing = 0.15)\n",
    "fig.append_trace(trace1, 1, 1)\n",
    "fig.append_trace(trace2, 2, 1)\n",
    "fig.append_trace(trace3, 3, 1)\n",
    "fig.append_trace(trace4, 1, 2)\n",
    "fig.append_trace(trace5, 2, 2)\n",
    "fig.append_trace(trace6, 3, 2)\n",
    "\n",
    "fig['layout']['yaxis1'].update(title='EV (%)')\n",
    "fig['layout']['yaxis2'].update(title='EV (%)')\n",
    "fig['layout']['yaxis3'].update(title='EV (%)')\n",
    "fig['layout']['yaxis4'].update(title='EV (%)')\n",
    "fig['layout']['yaxis5'].update(title='EV (%)')\n",
    "fig['layout']['yaxis6'].update(title='EV (%)')\n",
    "fig['layout'].update(title='Explained variance by different principal components')\n",
    "py.iplot(fig)\n"
   ]
  },
  {
   "cell_type": "markdown",
   "metadata": {},
   "source": [
    "As we can see above, choosing two principal componnets with the highest eigenvalue will ensure that we save more than 95 percent of the data while reducing the dimension from nine to two."
   ]
  },
  {
   "cell_type": "markdown",
   "metadata": {},
   "source": [
    "# Projection Matrix and Projection Onto the New Feature Space"
   ]
  },
  {
   "cell_type": "code",
   "execution_count": 10,
   "metadata": {
    "collapsed": false
   },
   "outputs": [],
   "source": [
    "\n",
    "Y1 = Xg1_std.dot(np.hstack((eig_pairs_g1[0][1].reshape(8,1), eig_pairs_g1[1][1].reshape(8,1))))\n",
    "Y2 = Xg2_std.dot(np.hstack((eig_pairs_g2[0][1].reshape(8,1), eig_pairs_g2[1][1].reshape(8,1))))\n",
    "Y3 = Xg3_std.dot(np.hstack((eig_pairs_g3[0][1].reshape(8,1), eig_pairs_g3[1][1].reshape(8,1))))\n",
    "Y4 = Xp1_std.dot(np.hstack((eig_pairs_p1[0][1].reshape(8,1), eig_pairs_p1[1][1].reshape(8,1))))\n",
    "Y5 = Xp2_std.dot(np.hstack((eig_pairs_p2[0][1].reshape(8,1), eig_pairs_p2[1][1].reshape(8,1))))\n",
    "Y6 = Xp3_std.dot(np.hstack((eig_pairs_p3[0][1].reshape(8,1), eig_pairs_p3[1][1].reshape(8,1))))\n",
    "# print('Matrix W:\\n', matrix_w)"
   ]
  },
  {
   "cell_type": "markdown",
   "metadata": {},
   "source": [
    "Here we will visualize the PCA results first for all the activities and then for the top three activities that are suspicious to play a key role in possible classification (walking on treadmill for two intervals and sit rest with px simulator doffed):"
   ]
  },
  {
   "cell_type": "code",
   "execution_count": 11,
   "metadata": {
    "collapsed": false,
    "scrolled": true
   },
   "outputs": [
    {
     "name": "stdout",
     "output_type": "stream",
     "text": [
      "This is the format of your plot grid:\n",
      "[ (1,1) x1,y1 ]  [ (1,2) x2,y2 ]\n",
      "[ (2,1) x3,y3 ]  [ (2,2) x4,y4 ]\n",
      "[ (3,1) x5,y5 ]  [ (3,2) x6,y6 ]\n",
      "\n",
      "The draw time for this plot will be slow for clients without much RAM.\n"
     ]
    },
    {
     "name": "stderr",
     "output_type": "stream",
     "text": [
      "C:\\Users\\sword\\Anaconda3\\lib\\site-packages\\plotly\\plotly\\plotly.py:1443: UserWarning:\n",
      "\n",
      "Estimated Draw Time Slow\n",
      "\n"
     ]
    },
    {
     "data": {
      "text/html": [
       "<iframe id=\"igraph\" scrolling=\"no\" style=\"border:none;\" seamless=\"seamless\" src=\"https://plot.ly/~rrazaghi/168.embed\" height=\"525px\" width=\"100%\"></iframe>"
      ],
      "text/plain": [
       "<plotly.tools.PlotlyDisplay object>"
      ]
     },
     "execution_count": 11,
     "metadata": {},
     "output_type": "execute_result"
    }
   ],
   "source": [
    "\n",
    "fig = tools.make_subplots(rows=3, cols=2,\n",
    "                           subplot_titles=('good fit 1','poor fit 1','good fit 2', 'poor fit 2','good fit 3', 'poor fit 3'),\n",
    "                           specs=[[{}, {}], [{}, {}], [{}, {}]],\n",
    "                           horizontal_spacing = 0.1, vertical_spacing = 0.15)\n",
    "i = 0\n",
    "clr = ['black','orange', 'blue','red','cyan','magenta','yellow','deeppink', 'firebrick']\n",
    "for name in ('don px components ', 'walk on treadmill (2)', 'walk on treadmill (1)', 'sit rest with px simulator doffed', 'sit rest with px simulator donned (3)', 'sit rest bare limb', 'doff px components', 'sit rest with px simulator donned (2)',\n",
    "              'sit rest with px simulator donned (1)'):\n",
    "    \n",
    "    trace1 = go.Scatter(\n",
    "         x=Y1[y_g1==name,0],\n",
    "         y=Y1[y_g1==name,1],\n",
    "         mode='markers',\n",
    "         name=name,\n",
    "         marker=dict(\n",
    "             size=3,\n",
    "             color = clr[i],\n",
    "             opacity=0.8))\n",
    "    fig.append_trace(trace1, 1, 1)\n",
    "    \n",
    "    trace2 = go.Scatter(\n",
    "         x=Y2[y_g2==name,0],\n",
    "         y=Y2[y_g2==name,1],\n",
    "         mode='markers',\n",
    "         name=name,\n",
    "         marker=dict(\n",
    "             size=3,\n",
    "             color = clr[i],\n",
    "             opacity=0.8))\n",
    "    fig.append_trace(trace2, 2, 1)\n",
    "    \n",
    "    trace3 = go.Scatter(\n",
    "         x=Y3[y_g3==name,0],\n",
    "         y=Y3[y_g3==name,1],\n",
    "         mode='markers',\n",
    "         name=name,\n",
    "         marker=dict(\n",
    "             size=3,\n",
    "             color = clr[i],\n",
    "             opacity=0.8))\n",
    "    fig.append_trace(trace3, 3, 1)\n",
    "    \n",
    "    trace4 = go.Scatter(\n",
    "         x=Y4[y_p1==name,0],\n",
    "         y=Y4[y_p1==name,1],\n",
    "         mode='markers',\n",
    "         name=name,\n",
    "         marker=dict(\n",
    "             size=3,\n",
    "             color = clr[i],\n",
    "             opacity=0.8))\n",
    "    fig.append_trace(trace4, 1, 2)\n",
    "    \n",
    "    trace5 = go.Scatter(\n",
    "            x=Y5[y_p2==name,0],\n",
    "        y=Y5[y_p2==name,1],\n",
    "         mode='markers',\n",
    "         name=name,\n",
    "         marker=dict(\n",
    "             size=3,\n",
    "             color = clr[i]))\n",
    "    fig.append_trace(trace5, 2, 2)\n",
    "    \n",
    "    trace6 = go.Scatter(\n",
    "         x=Y6[y_p3==name,0],\n",
    "         y=Y6[y_p3==name,1],\n",
    "         mode='markers',\n",
    "         name=name,\n",
    "         marker=dict(\n",
    "             size=3,\n",
    "             color = clr[i],\n",
    "             opacity=0.8))\n",
    "    fig.append_trace(trace6, 3, 2)\n",
    "    i += 1\n",
    "\n",
    "\n",
    "fig['layout'].update(title='PC1 VS PC2 for all the activities')\n",
    "\n",
    "py.iplot(fig)\n",
    "\n",
    "#from IPython.display import Image\n",
    "#Image('first.png')\n"
   ]
  },
  {
   "cell_type": "code",
   "execution_count": 12,
   "metadata": {
    "collapsed": false
   },
   "outputs": [
    {
     "name": "stdout",
     "output_type": "stream",
     "text": [
      "This is the format of your plot grid:\n",
      "[ (1,1) x1,y1 ]  [ (1,2) x2,y2 ]\n",
      "[ (2,1) x3,y3 ]  [ (2,2) x4,y4 ]\n",
      "[ (3,1) x5,y5 ]  [ (3,2) x6,y6 ]\n",
      "\n"
     ]
    },
    {
     "data": {
      "text/html": [
       "<iframe id=\"igraph\" scrolling=\"no\" style=\"border:none;\" seamless=\"seamless\" src=\"https://plot.ly/~rrazaghi/172.embed\" height=\"525px\" width=\"100%\"></iframe>"
      ],
      "text/plain": [
       "<plotly.tools.PlotlyDisplay object>"
      ]
     },
     "execution_count": 12,
     "metadata": {},
     "output_type": "execute_result"
    }
   ],
   "source": [
    "\n",
    "fig = tools.make_subplots(rows=3, cols=2,\n",
    "                          subplot_titles=('good fit 1','poor fit 1','good fit 2', 'poor fit 2','good fit 3', 'poor fit 3'),\n",
    "                          specs=[[{}, {}], [{}, {}], [{}, {}]],\n",
    "                          horizontal_spacing = 0.1, vertical_spacing = 0.15)\n",
    "i = 0\n",
    "clr = ['black','orange', 'blue','red','cyan','magenta','yellow','deeppink', 'firebrick']\n",
    "\n",
    "for name in ('walk on treadmill (2)', 'walk on treadmill (1)', 'sit rest with px simulator doffed'):\n",
    "  \n",
    "    trace1 = go.Scatter(\n",
    "        x=Y1[y_g1==name,0],\n",
    "        y=Y1[y_g1==name,1],\n",
    "        mode='markers',\n",
    "        name=name,\n",
    "        marker=dict(\n",
    "            size=1,\n",
    "            color = clr[i],\n",
    "            opacity=0.8))\n",
    "    fig.append_trace(trace1, 1, 1)\n",
    "\n",
    "    trace2 = go.Scatter(\n",
    "        x=Y2[y_g2==name,0],\n",
    "        y=Y2[y_g2==name,1],\n",
    "        mode='markers',\n",
    "        name=name,\n",
    "        marker=dict(\n",
    "            size=1,\n",
    "            color = clr[i],\n",
    "            opacity=0.8))\n",
    "    fig.append_trace(trace2, 2, 1)\n",
    "    \n",
    "    trace3 = go.Scatter(\n",
    "        x=Y3[y_g3==name,0],\n",
    "        y=Y3[y_g3==name,1],\n",
    "        mode='markers',\n",
    "        name=name,\n",
    "        marker=dict(\n",
    "            size=1,\n",
    "            color = clr[i],\n",
    "            opacity=0.8))\n",
    "    fig.append_trace(trace3, 3, 1)\n",
    "    \n",
    "    trace4 = go.Scatter(\n",
    "        x=Y4[y_p1==name,0],\n",
    "        y=Y4[y_p1==name,1],\n",
    "        mode='markers',\n",
    "        name=name,\n",
    "        marker=dict(\n",
    "            size=1,\n",
    "            color = clr[i],\n",
    "            opacity=0.8))\n",
    "    fig.append_trace(trace4, 1, 2)\n",
    "    \n",
    "    trace5 = go.Scatter(\n",
    "        x=Y5[y_p2==name,0],\n",
    "        y=Y5[y_p2==name,1],\n",
    "        mode='markers',\n",
    "        name=name,\n",
    "        marker=dict(\n",
    "            size=1,\n",
    "            color = clr[i]))\n",
    "    fig.append_trace(trace5, 2, 2)\n",
    "    \n",
    "    trace6 = go.Scatter(\n",
    "        x=Y6[y_p3==name,0],\n",
    "        y=Y6[y_p3==name,1],\n",
    "        mode='markers',\n",
    "        name=name,\n",
    "        marker=dict(\n",
    "            size=1,\n",
    "            color = clr[i],\n",
    "            opacity=0.8))\n",
    "    fig.append_trace(trace6, 3, 2)\n",
    "    i += 1\n",
    "\n",
    "fig['layout'].update(title='PC1 VS PC2 for walking on treadmill and sit rest with px simulator doffed ')\n",
    "\n",
    "py.iplot(fig)\n",
    "\n"
   ]
  },
  {
   "cell_type": "code",
   "execution_count": 13,
   "metadata": {
    "collapsed": false
   },
   "outputs": [
    {
     "name": "stdout",
     "output_type": "stream",
     "text": [
      "This is the format of your plot grid:\n",
      "[ (1,1) x1,y1 ]  [ (1,2) x2,y2 ]\n",
      "[ (2,1) x3,y3 ]  [ (2,2) x4,y4 ]\n",
      "[ (3,1) x5,y5 ]  [ (3,2) x6,y6 ]\n",
      "\n"
     ]
    },
    {
     "data": {
      "text/html": [
       "<iframe id=\"igraph\" scrolling=\"no\" style=\"border:none;\" seamless=\"seamless\" src=\"https://plot.ly/~rrazaghi/174.embed\" height=\"525px\" width=\"100%\"></iframe>"
      ],
      "text/plain": [
       "<plotly.tools.PlotlyDisplay object>"
      ]
     },
     "execution_count": 13,
     "metadata": {},
     "output_type": "execute_result"
    }
   ],
   "source": [
    "\n",
    "fig = tools.make_subplots(rows=3, cols=2,\n",
    "                          subplot_titles=('good fit 1','poor fit 1','good fit 2', 'poor fit 2','good fit 3', 'poor fit 3'),\n",
    "                          specs=[[{}, {}], [{}, {}], [{}, {}]],\n",
    "                          horizontal_spacing = 0.1, vertical_spacing = 0.15)\n",
    "i = 0\n",
    "clr = ['black','orange', 'blue','red','cyan','magenta','yellow','deeppink', 'firebrick']\n",
    "\n",
    "for name in ('walk on treadmill (2)', 'walk on treadmill (1)', 'sit rest with px simulator doffed'):\n",
    "    \n",
    "    trace1 = go.Scatter(\n",
    "        x=np.mean(Y1[y_g1==name,0]),\n",
    "        y=np.mean(Y1[y_g1==name,1]),\n",
    "        mode='markers',\n",
    "        name=name,\n",
    "        marker=dict(\n",
    "            size=10,\n",
    "            color = clr[i],\n",
    "            opacity=0.8))\n",
    "    fig.append_trace(trace1, 1, 1)\n",
    "\n",
    "    trace2 = go.Scatter(\n",
    "        x=np.mean(Y2[y_g2==name,0]),\n",
    "        y=np.mean(Y2[y_g2==name,1]),\n",
    "        mode='markers',\n",
    "        name=name,\n",
    "        marker=dict(\n",
    "            size=10,\n",
    "            color = clr[i],\n",
    "            opacity=0.8))\n",
    "    fig.append_trace(trace2, 2, 1)\n",
    "  \n",
    "    trace3 = go.Scatter(\n",
    "        x=np.mean(Y3[y_g3==name,0]),\n",
    "        y=np.mean(Y3[y_g3==name,1]),\n",
    "        mode='markers',\n",
    "        name=name,\n",
    "        marker=dict(\n",
    "            size=10,\n",
    "            color = clr[i],\n",
    "            opacity=0.8))\n",
    "    fig.append_trace(trace3, 3, 1)\n",
    "    \n",
    "    trace4 = go.Scatter(\n",
    "        x=np.mean(Y4[y_p1==name,0]),\n",
    "        y=np.mean(Y4[y_p1==name,1]),\n",
    "        mode='markers',\n",
    "        name=name,\n",
    "        marker=dict(\n",
    "            size=10,\n",
    "            color = clr[i],\n",
    "            opacity=0.8))\n",
    "    fig.append_trace(trace4, 1, 2)\n",
    "    \n",
    "    trace5 = go.Scatter(\n",
    "        x=np.mean(Y5[y_p2==name,0]),\n",
    "        y=np.mean(Y5[y_p2==name,1]),\n",
    "        mode='markers',\n",
    "        name=name,\n",
    "        marker=dict(\n",
    "            size=10,\n",
    "            color = clr[i]))\n",
    "    fig.append_trace(trace5, 2, 2)\n",
    "   \n",
    "    trace6 = go.Scatter(\n",
    "        x=np.mean(Y6[y_p3==name,0]),\n",
    "        y=np.mean(Y6[y_p3==name,1]),\n",
    "        mode='markers',\n",
    "        name=name,\n",
    "        marker=dict(\n",
    "            size=10,\n",
    "            color = clr[i],\n",
    "            opacity=0.8))\n",
    "    fig.append_trace(trace6, 3, 2)\n",
    "    i += 1\n",
    "\n",
    "fig['layout'].update(title='Calculated means on PC1 VS PC2 for walking on treadmill and sit rest with px simulator doffed ')\n",
    "\n",
    "py.iplot(fig)"
   ]
  },
  {
   "cell_type": "markdown",
   "metadata": {},
   "source": [
    "# Fast Fourier transform"
   ]
  },
  {
   "cell_type": "markdown",
   "metadata": {},
   "source": [
    "A fast Fourier transform (FFT) algorithm computes the discrete Fourier transform (DFT) of a sequence, or its inverse. Fourier analysis converts a signal from its original domain (often time or space) to a representation in the frequency domain and vice versa. An FFT rapidly computes such transformations by factorizing the DFT matrix into a product of sparse (mostly zero) factors.[1] As a result, it manages to reduce the complexity of computing the DFT."
   ]
  },
  {
   "cell_type": "markdown",
   "metadata": {},
   "source": [
    "Below, we visualize the data first over the activities with the highest noise level ( taking into account that the dataset is averaged over different location in order to ease the process of visualization), then we compare the FFT output among different trials for possible classification."
   ]
  },
  {
   "cell_type": "code",
   "execution_count": 14,
   "metadata": {
    "collapsed": false
   },
   "outputs": [
    {
     "name": "stdout",
     "output_type": "stream",
     "text": [
      "This is the format of your plot grid:\n",
      "[ (1,1) x1,y1 ]  [ (1,2) x2,y2 ]\n",
      "[ (2,1) x3,y3 ]  [ (2,2) x4,y4 ]\n",
      "[ (3,1) x5,y5 ]  [ (3,2) x6,y6 ]\n",
      "\n"
     ]
    },
    {
     "data": {
      "text/html": [
       "<iframe id=\"igraph\" scrolling=\"no\" style=\"border:none;\" seamless=\"seamless\" src=\"https://plot.ly/~rrazaghi/176.embed\" height=\"525px\" width=\"100%\"></iframe>"
      ],
      "text/plain": [
       "<plotly.tools.PlotlyDisplay object>"
      ]
     },
     "execution_count": 14,
     "metadata": {},
     "output_type": "execute_result"
    }
   ],
   "source": [
    "import numpy as np\n",
    "import matplotlib.pyplot as plt\n",
    "import scipy.fftpack\n",
    "\n",
    "y1 = np.mean(df_good1[df_good1['Class']== 'walk on treadmill (1)'].ix[:,1:9].values, axis = 1)\n",
    "y2 = np.mean(df_good2[df_good2['Class']== 'walk on treadmill (1)'].ix[:,1:9].values, axis = 1)\n",
    "y3 = np.mean(df_good3[df_good3['Class']== 'walk on treadmill (1)'].ix[:,1:9].values, axis = 1)\n",
    "y4 = np.mean(df_poor1[df_poor1['Class']== 'walk on treadmill (1)'].ix[:,1:9].values, axis = 1)\n",
    "y5 = np.mean(df_poor2[df_poor2['Class']== 'walk on treadmill (1)'].ix[:,1:9].values, axis = 1)\n",
    "y6 = np.mean(df_poor3[df_poor3['Class']== 'walk on treadmill (1)'].ix[:,1:9].values, axis = 1)\n",
    "\n",
    "x1 = df_good1[df_good1['Class']== 'walk on treadmill (1)'].ix[:,0].values\n",
    "x2 = df_good2[df_good2['Class']== 'walk on treadmill (1)'].ix[:,0].values\n",
    "x3 = df_good3[df_good3['Class']== 'walk on treadmill (1)'].ix[:,0].values\n",
    "x4 = df_poor1[df_poor1['Class']== 'walk on treadmill (1)'].ix[:,0].values\n",
    "x5 = df_poor2[df_poor2['Class']== 'walk on treadmill (1)'].ix[:,0].values\n",
    "x6 = df_poor3[df_poor3['Class']== 'walk on treadmill (1)'].ix[:,0].values\n",
    "\n",
    "\n",
    "def fft(y):\n",
    "    Fs = 150.0;  # sampling rate\n",
    "    Ts = 1.0/Fs; # sampling interval\n",
    "    #t = np.arange(0,1,Ts) # time vector\n",
    "\n",
    "\n",
    "    n = len(y) # length of the signal\n",
    "    k = np.arange(n)\n",
    "    T = n/Fs\n",
    "    frq = k/T # two sides frequency range\n",
    "    frq = frq[range(n//2)] # one side frequency range\n",
    "\n",
    "    Y = np.fft.fft(y)/n # fft computing and normalization\n",
    "    Y = Y[range(n//2)]\n",
    "    return Y, frq\n",
    "y1f, frq1 = fft(y1)\n",
    "y2f, frq2 = fft(y2)\n",
    "y3f, frq3 = fft(y3)\n",
    "y4f, frq4 = fft(y4)\n",
    "y5f, frq5 = fft(y5)\n",
    "y6f, frq6 = fft(y6)\n",
    "trace1 = go.Scatter(\n",
    "        x=x1,\n",
    "        y=y1)\n",
    "trace2 = go.Scatter(\n",
    "        x=x2,\n",
    "        y=y2)\n",
    "trace3 = go.Scatter(\n",
    "        x=x3,\n",
    "        y=y3)\n",
    "trace4 = go.Scatter(\n",
    "        x=x4,\n",
    "        y=y4)\n",
    "trace5 = go.Scatter(\n",
    "        x=x5,\n",
    "        y=y5)\n",
    "trace6 = go.Scatter(\n",
    "        x=x6,\n",
    "        y=y6)\n",
    "fig = tools.make_subplots(rows=3, cols=2,\n",
    "                          subplot_titles=('good fit 1','poor fit 1','good fit 2', 'poor fit 2','good fit 3', 'poor fit 3'),\n",
    "                          specs=[[{}, {}], [{}, {}], [{}, {}]],\n",
    "                          horizontal_spacing = 0.1, vertical_spacing = 0.15)\n",
    "fig.append_trace(trace1, 1, 1)\n",
    "fig.append_trace(trace2, 2, 1)\n",
    "fig.append_trace(trace3, 3, 1)\n",
    "fig.append_trace(trace4, 1, 2)\n",
    "fig.append_trace(trace5, 2, 2)\n",
    "fig.append_trace(trace6, 3, 2)\n",
    "\n",
    "fig['layout'].update(title='Original averaged signal over all 8 locations in the first walking on treadmill activity')\n",
    "\n",
    "\n",
    "py.iplot(fig)"
   ]
  },
  {
   "cell_type": "code",
   "execution_count": 15,
   "metadata": {
    "collapsed": false
   },
   "outputs": [
    {
     "data": {
      "text/html": [
       "<iframe id=\"igraph\" scrolling=\"no\" style=\"border:none;\" seamless=\"seamless\" src=\"https://plot.ly/~rrazaghi/178.embed\" height=\"288px\" width=\"432px\"></iframe>"
      ],
      "text/plain": [
       "<plotly.tools.PlotlyDisplay object>"
      ]
     },
     "execution_count": 15,
     "metadata": {},
     "output_type": "execute_result"
    }
   ],
   "source": [
    "\n",
    "%matplotlib inline\n",
    "fig = plt.figure()\n",
    "\n",
    "ax1 = fig.add_subplot(321)\n",
    "ax1.plot(frq1[1:], abs(y1f)[1:], 'r-')\n",
    "ax1.set_title('good fit 1')\n",
    "ax2 = fig.add_subplot(322)\n",
    "ax2.plot(frq4[1:], abs(y4f)[1:], 'k-')\n",
    "ax2.set_title('poor fit 1')\n",
    "ax3 = fig.add_subplot(323)\n",
    "ax3.plot(frq2[1:], abs(y2f)[1:], 'b-')\n",
    "ax3.set_title('good fit 2')\n",
    "ax4 = fig.add_subplot(324)\n",
    "ax4.plot(frq5[1:], abs(y5f)[1:], 'g-')\n",
    "ax4.set_title('poor fit 2')                \n",
    "ax5 = fig.add_subplot(325)\n",
    "ax5.plot(frq3[1:], abs(y3f)[1:], 'g-')\n",
    "ax5.set_title('good fit 3')\n",
    "ax6 = fig.add_subplot(326)\n",
    "ax6.plot(frq6[1:], abs(y6f)[1:], 'g-')\n",
    "ax6.set_title('poor fit 3')\n",
    "plt.tight_layout()\n",
    "fig = plt.gcf()\n",
    "\n",
    "plotly_fig = tls.mpl_to_plotly( fig )\n",
    "plotly_fig['layout']['title'] = 'FFT for all trials on first walking period(Amplitude VS Freq)'\n",
    "plotly_fig['layout']['margin'].update({'t':50})\n",
    "py.iplot(plotly_fig)"
   ]
  },
  {
   "cell_type": "markdown",
   "metadata": {
    "collapsed": false
   },
   "source": [
    "Above analysis was also performed on the second walking period and both revealed no significant difference among the datasets. Note:(It would be a good idea to run this individually on different locations without calculating the average)."
   ]
  },
  {
   "cell_type": "code",
   "execution_count": null,
   "metadata": {
    "collapsed": true
   },
   "outputs": [],
   "source": []
  }
 ],
 "metadata": {
  "anaconda-cloud": {},
  "kernelspec": {
   "display_name": "Python [conda root]",
   "language": "python",
   "name": "conda-root-py"
  },
  "language_info": {
   "codemirror_mode": {
    "name": "ipython",
    "version": 3
   },
   "file_extension": ".py",
   "mimetype": "text/x-python",
   "name": "python",
   "nbconvert_exporter": "python",
   "pygments_lexer": "ipython3",
   "version": "3.5.2"
  }
 },
 "nbformat": 4,
 "nbformat_minor": 0
}
