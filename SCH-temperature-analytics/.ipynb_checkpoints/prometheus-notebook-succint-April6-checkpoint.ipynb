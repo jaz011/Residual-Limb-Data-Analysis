{
 "cells": [
  {
   "cell_type": "code",
   "execution_count": 1,
   "metadata": {
    "collapsed": false
   },
   "outputs": [],
   "source": [
    "import numpy as np\n",
    "import cvxpy as cvx\n",
    "from cvxpy import *\n",
    "import pandas as pd\n",
    "import matplotlib.pyplot as plt  # the tidy way \n",
    "from scipy.misc import comb\n",
    "%matplotlib inline\n",
    "#import seaborn as sns # plotting of statistical data\n",
    "#sns.set()"
   ]
  },
  {
   "cell_type": "markdown",
   "metadata": {},
   "source": [
    "Load the data as a pandas dataframe"
   ]
  },
  {
   "cell_type": "code",
   "execution_count": 2,
   "metadata": {
    "collapsed": false
   },
   "outputs": [],
   "source": [
    "prometheus_df = pd.read_csv('treatment1complete.csv')"
   ]
  },
  {
   "cell_type": "markdown",
   "metadata": {},
   "source": [
    "Select all rows belonging to subject number 6 for round 9"
   ]
  },
  {
   "cell_type": "code",
   "execution_count": 3,
   "metadata": {
    "collapsed": false
   },
   "outputs": [
    {
     "data": {
      "text/html": [
       "<div>\n",
       "<table border=\"1\" class=\"dataframe\">\n",
       "  <thead>\n",
       "    <tr style=\"text-align: right;\">\n",
       "      <th></th>\n",
       "      <th>rowindex</th>\n",
       "      <th>Session</th>\n",
       "      <th>Subject</th>\n",
       "      <th>SubjectID</th>\n",
       "      <th>Timing</th>\n",
       "      <th>eventType</th>\n",
       "      <th>eventIndex</th>\n",
       "      <th>eventClicked</th>\n",
       "      <th>task</th>\n",
       "      <th>columnIndex</th>\n",
       "      <th>...</th>\n",
       "      <th>cluesviewed</th>\n",
       "      <th>miliseconds</th>\n",
       "      <th>seconds</th>\n",
       "      <th>cluemath</th>\n",
       "      <th>cluews</th>\n",
       "      <th>clueboth</th>\n",
       "      <th>clueindex</th>\n",
       "      <th>maxtaskchosen</th>\n",
       "      <th>correct</th>\n",
       "      <th>wrong</th>\n",
       "    </tr>\n",
       "  </thead>\n",
       "  <tbody>\n",
       "    <tr>\n",
       "      <th>38</th>\n",
       "      <td>39</td>\n",
       "      <td>2</td>\n",
       "      <td>6</td>\n",
       "      <td>135264567</td>\n",
       "      <td>706</td>\n",
       "      <td>task</td>\n",
       "      <td>1</td>\n",
       "      <td>Task 1</td>\n",
       "      <td>1.0</td>\n",
       "      <td>1</td>\n",
       "      <td>...</td>\n",
       "      <td>3</td>\n",
       "      <td>13100.0</td>\n",
       "      <td>13.1</td>\n",
       "      <td>1</td>\n",
       "      <td>0</td>\n",
       "      <td>0</td>\n",
       "      <td>14.0</td>\n",
       "      <td>0</td>\n",
       "      <td>NaN</td>\n",
       "      <td>NaN</td>\n",
       "    </tr>\n",
       "    <tr>\n",
       "      <th>39</th>\n",
       "      <td>40</td>\n",
       "      <td>2</td>\n",
       "      <td>6</td>\n",
       "      <td>135264567</td>\n",
       "      <td>5676</td>\n",
       "      <td>task</td>\n",
       "      <td>1</td>\n",
       "      <td>Task 3</td>\n",
       "      <td>3.0</td>\n",
       "      <td>2</td>\n",
       "      <td>...</td>\n",
       "      <td>3</td>\n",
       "      <td>13100.0</td>\n",
       "      <td>13.1</td>\n",
       "      <td>0</td>\n",
       "      <td>1</td>\n",
       "      <td>0</td>\n",
       "      <td>3.0</td>\n",
       "      <td>0</td>\n",
       "      <td>NaN</td>\n",
       "      <td>NaN</td>\n",
       "    </tr>\n",
       "    <tr>\n",
       "      <th>40</th>\n",
       "      <td>41</td>\n",
       "      <td>2</td>\n",
       "      <td>6</td>\n",
       "      <td>135264567</td>\n",
       "      <td>2199</td>\n",
       "      <td>task</td>\n",
       "      <td>1</td>\n",
       "      <td>Task 3</td>\n",
       "      <td>3.0</td>\n",
       "      <td>2</td>\n",
       "      <td>...</td>\n",
       "      <td>3</td>\n",
       "      <td>13100.0</td>\n",
       "      <td>13.1</td>\n",
       "      <td>0</td>\n",
       "      <td>1</td>\n",
       "      <td>0</td>\n",
       "      <td>10.0</td>\n",
       "      <td>0</td>\n",
       "      <td>NaN</td>\n",
       "      <td>NaN</td>\n",
       "    </tr>\n",
       "    <tr>\n",
       "      <th>41</th>\n",
       "      <td>42</td>\n",
       "      <td>2</td>\n",
       "      <td>6</td>\n",
       "      <td>135264567</td>\n",
       "      <td>4519</td>\n",
       "      <td>trial</td>\n",
       "      <td>0</td>\n",
       "      <td>ESFO</td>\n",
       "      <td>NaN</td>\n",
       "      <td>2</td>\n",
       "      <td>...</td>\n",
       "      <td>3</td>\n",
       "      <td>13100.0</td>\n",
       "      <td>13.1</td>\n",
       "      <td>0</td>\n",
       "      <td>0</td>\n",
       "      <td>0</td>\n",
       "      <td>NaN</td>\n",
       "      <td>0</td>\n",
       "      <td>1.0</td>\n",
       "      <td>0.0</td>\n",
       "    </tr>\n",
       "  </tbody>\n",
       "</table>\n",
       "<p>4 rows × 31 columns</p>\n",
       "</div>"
      ],
      "text/plain": [
       "    rowindex  Session  Subject  SubjectID  Timing eventType  eventIndex  \\\n",
       "38        39        2        6  135264567     706      task           1   \n",
       "39        40        2        6  135264567    5676      task           1   \n",
       "40        41        2        6  135264567    2199      task           1   \n",
       "41        42        2        6  135264567    4519     trial           0   \n",
       "\n",
       "   eventClicked  task  columnIndex  ...    cluesviewed  miliseconds seconds  \\\n",
       "38       Task 1   1.0            1  ...              3      13100.0    13.1   \n",
       "39       Task 3   3.0            2  ...              3      13100.0    13.1   \n",
       "40       Task 3   3.0            2  ...              3      13100.0    13.1   \n",
       "41         ESFO   NaN            2  ...              3      13100.0    13.1   \n",
       "\n",
       "   cluemath cluews  clueboth clueindex  maxtaskchosen  correct  wrong  \n",
       "38        1      0         0      14.0              0      NaN    NaN  \n",
       "39        0      1         0       3.0              0      NaN    NaN  \n",
       "40        0      1         0      10.0              0      NaN    NaN  \n",
       "41        0      0         0       NaN              0      1.0    0.0  \n",
       "\n",
       "[4 rows x 31 columns]"
      ]
     },
     "execution_count": 3,
     "metadata": {},
     "output_type": "execute_result"
    }
   ],
   "source": [
    "prometheus_df[(prometheus_df['Subject'] == 6) & (prometheus_df['round'] == 19)]"
   ]
  },
  {
   "cell_type": "code",
   "execution_count": 4,
   "metadata": {
    "collapsed": false
   },
   "outputs": [
    {
     "data": {
      "text/html": [
       "<div>\n",
       "<table border=\"1\" class=\"dataframe\">\n",
       "  <thead>\n",
       "    <tr style=\"text-align: right;\">\n",
       "      <th></th>\n",
       "      <th>Subject</th>\n",
       "      <th>eventIndex</th>\n",
       "      <th>taskchosen</th>\n",
       "      <th>round</th>\n",
       "      <th>cluesviewed</th>\n",
       "      <th>cluemath</th>\n",
       "      <th>cluews</th>\n",
       "      <th>clueindex</th>\n",
       "    </tr>\n",
       "  </thead>\n",
       "  <tbody>\n",
       "    <tr>\n",
       "      <th>38</th>\n",
       "      <td>6</td>\n",
       "      <td>1</td>\n",
       "      <td>0</td>\n",
       "      <td>19</td>\n",
       "      <td>3</td>\n",
       "      <td>1</td>\n",
       "      <td>0</td>\n",
       "      <td>14.0</td>\n",
       "    </tr>\n",
       "    <tr>\n",
       "      <th>39</th>\n",
       "      <td>6</td>\n",
       "      <td>1</td>\n",
       "      <td>0</td>\n",
       "      <td>19</td>\n",
       "      <td>3</td>\n",
       "      <td>0</td>\n",
       "      <td>1</td>\n",
       "      <td>3.0</td>\n",
       "    </tr>\n",
       "    <tr>\n",
       "      <th>40</th>\n",
       "      <td>6</td>\n",
       "      <td>1</td>\n",
       "      <td>0</td>\n",
       "      <td>19</td>\n",
       "      <td>3</td>\n",
       "      <td>0</td>\n",
       "      <td>1</td>\n",
       "      <td>10.0</td>\n",
       "    </tr>\n",
       "    <tr>\n",
       "      <th>41</th>\n",
       "      <td>6</td>\n",
       "      <td>0</td>\n",
       "      <td>0</td>\n",
       "      <td>19</td>\n",
       "      <td>3</td>\n",
       "      <td>0</td>\n",
       "      <td>0</td>\n",
       "      <td>NaN</td>\n",
       "    </tr>\n",
       "  </tbody>\n",
       "</table>\n",
       "</div>"
      ],
      "text/plain": [
       "    Subject  eventIndex  taskchosen  round  cluesviewed  cluemath  cluews  \\\n",
       "38        6           1           0     19            3         1       0   \n",
       "39        6           1           0     19            3         0       1   \n",
       "40        6           1           0     19            3         0       1   \n",
       "41        6           0           0     19            3         0       0   \n",
       "\n",
       "    clueindex  \n",
       "38       14.0  \n",
       "39        3.0  \n",
       "40       10.0  \n",
       "41        NaN  "
      ]
     },
     "execution_count": 4,
     "metadata": {},
     "output_type": "execute_result"
    }
   ],
   "source": [
    "succinct_df = prometheus_df[['Subject', 'eventIndex','taskchosen', 'round', 'cluesviewed', 'cluemath','cluews','clueindex']]\n",
    "succinct_df[(succinct_df['Subject'] == 6) & (succinct_df['round'] == 19)]"
   ]
  },
  {
   "cell_type": "code",
   "execution_count": 5,
   "metadata": {
    "collapsed": false
   },
   "outputs": [
    {
     "name": "stdout",
     "output_type": "stream",
     "text": [
      "for subject 8 max no of rounds = 49\n"
     ]
    }
   ],
   "source": [
    "#succinct_df[(succinct_df['Subject'] <= 7)]\n",
    "\n",
    "subject = 8;\n",
    "succinct_subj = succinct_df[(prometheus_df['Subject'] == subject)]\n",
    "print('for subject ' + str(subject) + ' max no of rounds = ' + str(max(succinct_subj['round'])))\n",
    "#succinct_subj\n"
   ]
  },
  {
   "cell_type": "code",
   "execution_count": 6,
   "metadata": {
    "collapsed": false
   },
   "outputs": [],
   "source": [
    "def ShannonEntropy(rho):\n",
    "    result = -rho[0]*np.log2(rho[0]) -rho[1]*np.log2(rho[1])\n",
    "    return result\n",
    "\n",
    "def absEntropy(rho):\n",
    "    result = 1-np.max(rho[0],rho[1])\n",
    "    return result\n",
    "\n",
    "\n",
    "def uncertaintyFunction(beta,rho):\n",
    "    result = beta[0]*ShannonEntropy(rho) + beta[1]*absEntropy(rho)\n",
    "    return result\n",
    "\n",
    "def bernstein_poly(k,n,p):\n",
    "    return comb(n,k)* (p**(n-k))*(1-p)**k\n",
    "\n",
    "def bernstein_poly_second_deriv(k,n,p):\n",
    "    termOne = k*(k-1)*p**(k-2)*(1-p)**(n-k)\n",
    "    termTwo = -k*(n-k)*p**(k-1)*(1-p)**(n-k-1)\n",
    "    termThree = -(n-k)*k*p**(k-1)*(1-p)**(n-k-1)\n",
    "    termFour = (n-k)*(n-k-1)*p**k*(1-p)**(n-k-2)    \n",
    "    return comb(n,k)* (termOne+termTwo + termThree+termFour)\n",
    "\n",
    "# maxOrder = length(w)-1\n",
    "def plot_bernstein(maxOrder,resolution,w):\n",
    "    pvals = np.linspace(0,1,resolution)\n",
    "    Bernvals = np.linspace(0,1,resolution);\n",
    "    for itr in range(resolution):\n",
    "        p = pvals[itr]\n",
    "        Bernvals[itr]=0;\n",
    "        for k in range(maxOrder+1):\n",
    "            Bernvals[itr]=Bernvals[itr]+w[k]* bernstein_poly(k,maxOrder,p)\n",
    "    plt.plot(pvals,Bernvals,'o')\n",
    "    \n",
    "def plot_bernstein_secondDeriv(maxOrder,resolution,w):\n",
    "    pvals = np.linspace(0,1,resolution)\n",
    "    BernSecondvals = np.linspace(0,1,resolution);\n",
    "    for itr in range(resolution):\n",
    "        p = pvals[itr]\n",
    "        BernSecondvals[itr]=0;\n",
    "        for k in range(maxOrder+1):\n",
    "            BernSecondvals[itr]=BernSecondvals[itr]+w[k]* bernstein_poly_second_deriv(k,maxOrder,p)\n",
    "    plt.plot(pvals,BernSecondvals,'o')\n",
    "    #print('maximum second derivative: ' + str(np.max(BernSecondvals)))\n",
    "    print('maximum second derivative: ' + str((BernSecondvals)))"
   ]
  },
  {
   "cell_type": "code",
   "execution_count": 7,
   "metadata": {
    "collapsed": false
   },
   "outputs": [
    {
     "data": {
      "text/plain": [
       "1.0"
      ]
     },
     "execution_count": 7,
     "metadata": {},
     "output_type": "execute_result"
    }
   ],
   "source": [
    "#beta = np.array([2.8,1.3])\n",
    "beta = np.array([1,0])\n",
    "rho = np.array([0.5,0.5])\n",
    "rho\n",
    "uncertaintyFunction(beta,rho)"
   ]
  },
  {
   "cell_type": "markdown",
   "metadata": {},
   "source": [
    "For each subject, for each session, show me the **maximum** number of tasks they completed"
   ]
  },
  {
   "cell_type": "markdown",
   "metadata": {},
   "source": [
    "** The Basic Mathematics **\n",
    "The action can be one of four actions\n",
    " * $C_A$: continue and get more clues from column A.  This means that **(eventIndex,columnIndex)=(1,1)**\n",
    " * $C_B$: continue and get more clues from column B. This means that **(eventIndex,columnIndex)=(1,2)**\n",
    " * $S_A$: stop and answer question from column A. This means that **(eventIndex,columnIndex)=(0,1)**\n",
    " * $S_B$: stop and answer question from column B. This means that **(eventIndex,columnIndex)=(0,2)**\n"
   ]
  },
  {
   "cell_type": "markdown",
   "metadata": {},
   "source": [
    "** The Utility Function **\n",
    "\n",
    "We model the utility function $U(\\rho)=\\sum_{k=1}^K \\beta_i U_i(\\rho)$\n",
    "where $\\beta$ is a length-$K$ vector of non-negative coefficients and each $U_i$ is a log-concave function of $\\rho$"
   ]
  },
  {
   "cell_type": "markdown",
   "metadata": {},
   "source": [
    "** The Optimal Blah blah blah Value Function **\n",
    "$\\newcommand{\\Vstop}{V_{\\text{stop}}}$\n",
    "$\\newcommand{\\Vcont}{V_{\\text{cont}}}$\n",
    "$\\newcommand{\\LPeGivenItauAtau}{LP_a(e|I_\\tau)}$\n",
    "$\\newcommand{\\parenth}[1]{\\left(#1\\right)}$\n",
    "$\\newcommand{\\brackets}[1]{\\left[#1\\right]}$\n",
    "$\\newcommand{\\E}{\\mathbb{E}}$\n",
    "$\\newcommand{\\BayesUpdate}{\\mathcal{B}}$\n",
    "\n",
    "\\begin{eqnarray}\n",
    "\\Vstop(\\rho) &=& \\min_{a} \\LPeGivenItauAtau \\\\\n",
    "                    &=& \\min \\parenth{\\underbrace{\\alpha_M \\rho(M) + \\alpha_E \\rho(E)}_{a_\\tau = S_A},\n",
    "                        \\underbrace{\\alpha_M \\rho(E) + \\alpha_E \\rho(M)}_{a_\\tau =\n",
    "                        S_B}}\n",
    "\\end{eqnarray}\n",
    "And then we have\n",
    "\\begin{eqnarray}\n",
    " V^*(\\rho) = \\min \\parenth{ \\underbrace{\\Vstop(\\rho)}_{\\text{optimal cost for stopping}}, 1+\\underbrace{\\min_{a} \\E_O \\brackets{V^* \\parenth{\\BayesUpdate(\\rho,L_{O,a})}}}_{\\text{optimal cost for continuing}}}\n",
    "\\end{eqnarray}\n",
    "where the expectation is taken with respect to the conditional distribution on $o$ given action $i$ and information so\n",
    "far:\n",
    "\\begin{eqnarray}\n",
    " p(o) = \\sum_{w} p(o|a,w) \\rho(w)\n",
    "\\end{eqnarray}"
   ]
  },
  {
   "cell_type": "markdown",
   "metadata": {},
   "source": [
    "Equivalently we can say that for being in any state $s$, the optimal action is the minimizer of $V^*(rho)$.  By defining the $Q$-function to be such that\n",
    "\\begin{eqnarray}\n",
    "max_a Q(\\rho,a) = - V^*(\\rho) \n",
    "\\end{eqnarray}\n",
    "So the optimal action can be thought of as\n",
    "\\begin{eqnarray}\n",
    "a^*(\\rho) = \\arg \\max_{a} Q(\\rho,a)\n",
    "\\end{eqnarray}\n",
    "\n",
    "That is a special case of a $P(a|\\rho)$ but we approximate this with a \"softmax\", given by\n",
    "\\begin{eqnarray}\n",
    "P(a|\\rho) = \\frac{ e^{Q(\\rho,a)} }{\\sum_a e^{Q(\\rho,a)} }\n",
    "\\end{eqnarray}\n",
    "\n",
    "There are four actions:\n",
    " * $a=C_A$: continue and get more clues from column A. We need to know $Q(\\rho,C_A)$\n",
    "\\begin{eqnarray}\n",
    "Q(\\rho,C_A) = \\sum_{k=1}^K \\kappa^{C_A}_k \\phi_k(\\rho)\n",
    "\\end{eqnarray}\n",
    " * $a=C_B$: continue and get more clues from column B. We need to know $Q(\\rho,C_B)$\n",
    "\\begin{eqnarray}\n",
    "Q(\\rho,C_B) = \\sum_{k=1}^K \\kappa^{C_B}_k \\phi_k(\\rho)\n",
    "\\end{eqnarray}\n",
    " * $a=S_A$: stop and answer question from column A. We need to know $Q(\\rho,S_A)$.  This is easy.\n",
    "\\begin{eqnarray}\n",
    "Q(\\rho,S_A) = -\\alpha_M \\rho(ME) - \\alpha_E \\rho(EM) - \\sum_{m=1}^M \\beta_m U_m(\\rho)\n",
    "\\end{eqnarray}\n",
    " * $a=S_B$: stop and answer question from column B.  We need to know $Q(\\rho,S_B)$.  This is easy.\n",
    "\\begin{eqnarray}\n",
    "Q(\\rho,S_B) = -\\alpha_M \\rho(EM) - \\alpha_E \\rho(ME) - \\sum_{m=1}^M \\beta_m U_m(\\rho)\n",
    "\\end{eqnarray}\n",
    "\n",
    "We can make the $\\rho_k$ functions the Legendre polynomials, where we place a uniform prior on rho.  I believe that is the minimax prior for $\\rho$ being a binary distribution."
   ]
  },
  {
   "cell_type": "code",
   "execution_count": 19,
   "metadata": {
    "collapsed": false
   },
   "outputs": [],
   "source": [
    "likelihoodratios_df = pd.read_csv('1likelihoodratios.csv')"
   ]
  },
  {
   "cell_type": "code",
   "execution_count": 20,
   "metadata": {
    "collapsed": false
   },
   "outputs": [],
   "source": [
    "entry=likelihoodratios_df[(likelihoodratios_df['clueIndex'] ==24)] "
   ]
  },
  {
   "cell_type": "code",
   "execution_count": 21,
   "metadata": {
    "collapsed": false
   },
   "outputs": [
    {
     "data": {
      "text/html": [
       "<div>\n",
       "<table border=\"1\" class=\"dataframe\">\n",
       "  <thead>\n",
       "    <tr style=\"text-align: right;\">\n",
       "      <th></th>\n",
       "      <th>clueIndex</th>\n",
       "      <th>Clue</th>\n",
       "      <th>Ratio P(o|n=math)/P(o|n=ws)</th>\n",
       "    </tr>\n",
       "  </thead>\n",
       "  <tbody>\n",
       "    <tr>\n",
       "      <th>23</th>\n",
       "      <td>24</td>\n",
       "      <td>50 percent of previous players thought this ta...</td>\n",
       "      <td>2</td>\n",
       "    </tr>\n",
       "  </tbody>\n",
       "</table>\n",
       "</div>"
      ],
      "text/plain": [
       "    clueIndex                                               Clue  \\\n",
       "23         24  50 percent of previous players thought this ta...   \n",
       "\n",
       "    Ratio P(o|n=math)/P(o|n=ws)  \n",
       "23                            2  "
      ]
     },
     "execution_count": 21,
     "metadata": {},
     "output_type": "execute_result"
    }
   ],
   "source": [
    "entry"
   ]
  },
  {
   "cell_type": "markdown",
   "metadata": {},
   "source": [
    "**Bayes Update**\n",
    "Let $o$ be what the person saw at time $t+1$.\n",
    "\\begin{eqnarray*}\n",
    "\\rho_{t+1}(ME) &\\propto& \\rho_t(ME) P(O_{t+1}=o|ME)\n",
    "\\end{eqnarray*}\n",
    "If they clicked the left lever, and we are querying at $ME$, then $P(O_{t+1}=o|ME)=P(O_{t+1}=o|\\text{math clue})$"
   ]
  },
  {
   "cell_type": "code",
   "execution_count": 22,
   "metadata": {
    "collapsed": false
   },
   "outputs": [],
   "source": [
    "def BayesUpdate(clueIndex,previousrho,columnIndex,likelihoodratios_df): \n",
    "    # notation: rho[0] corresponds to rho(ME), rho[1] corresponds to rho(EM)\n",
    "    # columnIndex =1 means they clicked left\n",
    "    rhonew = np.array([0.5,0.5]);\n",
    "    entry=likelihoodratios_df[(likelihoodratios_df['clueIndex'] ==clueIndex)];\n",
    "    # rationale: ratio is p(y|math)/p(y|english) or p(y|english)/p(y|english)\n",
    "    likelihoodRatioM =entry['Ratio P(o|n=math)/P(o|n=ws)'].values[0];\n",
    "    likelihoodRatioE = np.array([1.0]);\n",
    "    \n",
    "    \n",
    "    ratios = np.array([0.5,0.5]);\n",
    "\n",
    "    if (columnIndex ==1):\n",
    "        # clicked Left.\n",
    "        # truth is ME and clicked left, or truth is EM and clicked left\n",
    "        ratios[0]= likelihoodRatioM;\n",
    "        ratios[1]= likelihoodRatioE;        \n",
    "    else:\n",
    "        # clicked Right.\n",
    "        # truth is ME and clicked Right, or truth is EM and clicked Right\n",
    "        ratios[0]= likelihoodRatioE;\n",
    "        ratios[1]= likelihoodRatioM;        \n",
    "            \n",
    "    numerator = np.array([1.0,1.0]);    \n",
    "    for index in range(2):\n",
    "        numerator[index] = previousrho[index]*ratios[index];\n",
    "    rhonew = numerator / (sum(numerator));        \n",
    "    return rhonew"
   ]
  },
  {
   "cell_type": "code",
   "execution_count": 23,
   "metadata": {
    "collapsed": false
   },
   "outputs": [
    {
     "name": "stdout",
     "output_type": "stream",
     "text": [
      "0.04\n",
      "[ 0.   0.   0.3  0. ]\n",
      "0\n",
      "1.0\n",
      "1\n",
      "-0.3\n",
      "2\n",
      "-0.365\n",
      "3\n",
      "0.3825\n"
     ]
    },
    {
     "data": {
      "text/plain": [
       "array([ 1.,  1.,  1.])"
      ]
     },
     "execution_count": 23,
     "metadata": {},
     "output_type": "execute_result"
    }
   ],
   "source": [
    "# polynomial chaos values for rho.\n",
    "rhonew = np.array([0.8,0.2])\n",
    "k = 2\n",
    "b = np.polynomial.legendre.Legendre.basis(k)(2*rhonew[0]-1) \n",
    "print (b)\n",
    "\n",
    "v = np.ones((1, 4))\n",
    "z = np.array([0.1, 0.2, 0.5, 0.6])\n",
    "np.dot(v,z)\n",
    "\n",
    "K = 4\n",
    "phi_vector = np.zeros(K)\n",
    "\n",
    "phi_vector[2] = 0.3\n",
    "\n",
    "print(phi_vector)\n",
    "\n",
    "for k in range(4):\n",
    "    print (k)\n",
    "    print(np.polynomial.legendre.Legendre.basis(k)(-0.3) )\n",
    "    \n",
    "\n",
    "mtx = np.ones((2,3))\n",
    "mtx[1,:]\n"
   ]
  },
  {
   "cell_type": "markdown",
   "metadata": {},
   "source": [
    "** Different variables **\n",
    " * $\\theta = (\\beta,\\alpha,\\kappa^{A},\\kappa^{B})$ where\n",
    "  * $\\beta$ is coefficients for the uncertainty function.  Needs to be non-negative\n",
    "  * $\\alpha = L P_e$ where $L$ is non-negative.   Thus $\\alpha$ also needs to be non-negative.\n",
    "  * $\\kappa^A$ corresponds to the coefficients in the basis for $Q(\\rho,C_A)$.  \n",
    "  * $\\kappa^B$ corresponds to the coefficients in the basis for $Q(\\rho,C_B)$.  \n",
    " \n",
    "** log likelihood **\n",
    "\\begin{eqnarray}\n",
    "\\log P(y|\\theta) \\propto \\sum_{r=1}^R \\sum_{t=1}^{\\tau^{(r)}} \\log p(a^{(r)}_t|\\rho^{(r)}_t) \n",
    "\\end{eqnarray}\n",
    "where\n",
    "\\begin{eqnarray}\n",
    "\\log p(a|\\rho) = Q(\\rho,a) - \\log \\left( \\sum_{\\tilde{a}} Q(\\rho,\\tilde{a}) \\right)\n",
    "\\end{eqnarray}\n",
    "and\n",
    "\n",
    " * $a=C_A$: continue and get more clues from column A. We need to know $Q(\\rho,C_A)$\n",
    "\\begin{eqnarray}\n",
    "Q(\\rho,a) = \\begin{cases}\n",
    "                \\sum_{k=1}^K \\kappa^{A}_k \\phi_k(\\rho), & a=C_A \\\\\n",
    "                \\sum_{k=1}^K \\kappa^{B}_k \\phi_k(\\rho), & a=C_B \\\\\n",
    "                -\\alpha_M \\rho(ME) - \\alpha_E \\rho(EM) - \\sum_{m=1}^M \\beta_m U_m(\\rho), & a=S_A \\\\\n",
    "                -\\alpha_M \\rho(EM) - \\alpha_E \\rho(ME) - \\sum_{m=1}^M \\beta_m U_m(\\rho), & a=S_B\n",
    "            \\end{cases}\n",
    "\\end{eqnarray}\n",
    "Treating $Q(\\rho,\\cdot)$ as a vector, note that it can be described as\n",
    "\\begin{eqnarray}\n",
    "Q(\\rho,\\cdot) &=& \\left[ \\begin{array}{cccc} \n",
    "                    \\underline{0}^T & \\underline{0}^T& \\underline{\\phi(\\rho)}^T & \\underline{0}^T \\\\\n",
    "                    \\underline{0}^T & \\underline{0}^T& \\underline{0}^T & \\underline{\\phi(\\rho)}^T \\\\\n",
    "                    -\\underline{U(\\rho)}^T & -[\\rho(ME),\\rho(EM) ]^T& \\underline{0}^T & \\underline{0}^T \\\\\n",
    "                    -\\underline{U(\\rho)}^T & -[\\rho(EM),\\rho(ME) ]^T& \\underline{0}^T & \\underline{0}^T \\\\\n",
    "                 \\end{array}\\right] \\left[ \\begin{array}{c}\n",
    "                                         \\underline{\\beta} \\\\\n",
    "                                         \\underline{\\alpha} \\\\\n",
    "                                         \\underline{\\kappa^A} \\\\\n",
    "                                         \\underline{\\kappa^B}\n",
    "                                     \\end{array}\\right] \\\\\n",
    "              &=& A(\\rho) \\underline{\\theta}                       \n",
    "\\end{eqnarray}\n",
    "Also, we can define $Q(\\rho,a)$ as one particular entry of $a$, which can be written as\n",
    "the inner product between a unit vector $\\underline{s(a)}$ and $Q(\\rho,\\cdot)$:\n",
    "\\begin{eqnarray}\n",
    "Q(\\rho,a) = \\underline{s(a)}^T Q(\\rho,\\cdot) = \\underline{s(a)}^T A(\\rho) \\underline{\\theta}                       \n",
    "\\end{eqnarray}\n",
    "\n",
    "And so with this we can define our ML estimation problem as\n",
    "\\begin{eqnarray}\n",
    "\\max_{\\theta} \\log P(y|\\theta) &\\Leftrightarrow& \\max_{\\theta}  \\sum_{r=1}^R \\sum_{t=1}^{\\tau^{(r)}} \\log p(a^{(r)}_t|\\rho^{(r)}_t) \\\\\n",
    " &=& \\max_{\\theta} \\sum_{r=1}^R \\sum_{t=1}^{\\tau^{(r)}} Q(\\rho_t^{(r)},a_t^{(r)}) - \\log \\left( \\sum_{\\tilde{a}} Q(\\rho_t^{(r)},\\tilde{a}) \\right) \\\\\n",
    " &=& \\max_{\\theta} \\sum_{r=1}^R \\sum_{t=1}^{\\tau^{(r)}} \\underline{s(a_t^{(r)})}^T A(\\rho_t^{(r)}) \\underline{\\theta}\n",
    " - \\text{logsumexp}\\left(A(\\rho_t^{(r)}) \\underline{\\theta}\\right)\n",
    "\\end{eqnarray}"
   ]
  },
  {
   "cell_type": "code",
   "execution_count": 89,
   "metadata": {
    "collapsed": false
   },
   "outputs": [],
   "source": [
    "def findMLestimateBernstein(subject,dataframe,K,M):    \n",
    "    # K is the number of basis coefficients for Q-continue function\n",
    "    # M is number of coefficients for uncertainty basis\n",
    "    \n",
    "    # d is the number of doors to be opened\n",
    "    D=2;\n",
    "    \n",
    "    # n is the dimension of the full uncertainty vector theta\n",
    "    n = M + D + K + K;\n",
    "    theta = cvx.Variable(n,1);\n",
    "    \n",
    "    # A is the matrix specified as above\n",
    "    A = np.zeros((4,n))\n",
    "    A = np.matrix(A)\n",
    "    \n",
    "    # coefficients for the uncertainty basis.\n",
    "    Uvector = np.ones((1,M))\n",
    "    \n",
    "    # K_A is the number of basis for Q(\\rho,ContinueA)\n",
    "    #K = 4;\n",
    "    phi_vector = np.ones((1,K))\n",
    "    \n",
    "    dataframe_subj = dataframe[(dataframe['Subject'] == subject)];\n",
    "    \n",
    "    print('for subject ' + str(subject) + ' max no of rounds = ' + str(max(dataframe_subj['round'])))\n",
    "    maxrounds = max(dataframe_subj['round'])\n",
    "    \n",
    "    \n",
    "    loglikelihood = 0.0;\n",
    "    \n",
    "    for itr in range(maxrounds):\n",
    "        # python starts at 0 but Round goes from 1 to maxrounds\n",
    "        Round = itr+1;\n",
    "        # grab some of the text\n",
    "        block = dataframe_subj[(dataframe_subj['round'] == Round)]\n",
    "        #print(block)\n",
    "\n",
    "        previousrho = np.array([0.5,0.5]);\n",
    "        rhobackwards = np.array([0.5,0.5]);\n",
    "\n",
    "        t=0;\n",
    "        for index, row in block.iterrows():\n",
    "            clueindex = row['clueindex'];\n",
    "            columnIndex = row['columnIndex'];\n",
    "            eventIndex = row['eventIndex'];\n",
    "            taskchosen = row['taskchosen']\n",
    "            rho = previousrho;\n",
    "            rhobackwards = [rho[1],rho[0]];\n",
    "            # build the uncertainty vector.  Bernstein polynomials of order zero through M.  \n",
    "            # that is why I make range M+1\n",
    "            maxOrder = M-1\n",
    "            for k in range(M):\n",
    "                #Uvector[0][:] = [ShannonEntropy(rho), absEntropy(rho)];\n",
    "                Uvector[0][k] = bernstein_poly(k,maxOrder,rho[1])\n",
    "            # build the Legendre basis vector\n",
    "            for k in range(K):\n",
    "                # evaluate the Kth Legendre polynomial\n",
    "                phi_vector[0][k] = np.polynomial.legendre.Legendre.basis(k)(2*rho[0]-1) \n",
    "\n",
    "            # reset A\n",
    "            A = np.zeros((4,n))\n",
    "            A = np.matrix(A)\n",
    "\n",
    "            # populate the appropriate part of A matrix\n",
    "            for k in range(M):\n",
    "                A[2,k] = - Uvector[0,k];\n",
    "                A[3,k] = - Uvector[0,k];\n",
    "            for k in range(2):\n",
    "                A[2,M+k] = -rho[k];\n",
    "                A[3,M+k] = -rhobackwards[k];\n",
    "            for k in range(K):\n",
    "                A[0,D+M+k]  =phi_vector[0,k];\n",
    "                A[1,D+M+K+k]=phi_vector[0,k];\n",
    "\n",
    "            #print('A=' + str(A))\n",
    "            #print('shape(A)=' + str(A.shape))\n",
    "\n",
    "            # figure out which action was taken to populate the selectionVector\n",
    "            selectionVector = np.zeros((1,4))\n",
    "\n",
    "            if (eventIndex==1):\n",
    "                if (columnIndex==1):\n",
    "                    # A= C_A\n",
    "                    selectionVector[0,0]=1.0;\n",
    "                else:\n",
    "                    # A= C_B\n",
    "                    selectionVector[0,1]=1.0;\n",
    "            else:\n",
    "                if (columnIndex==1):\n",
    "                    # A= S_A\n",
    "                    selectionVector[0,2]=1.0;\n",
    "                else:\n",
    "                    # A= S_B\n",
    "                    selectionVector[0,3]=1.0;\n",
    "\n",
    "            loglikelihood = loglikelihood + selectionVector*A*theta - cvx.log_sum_exp(A*theta);\n",
    "\n",
    "            if (eventIndex==1):\n",
    "                #print('continue.  clueIndex = ' + str(clueindex) + ', columnIndex = ' + str(columnIndex))\n",
    "                rhonew = BayesUpdate(clueindex,previousrho,columnIndex,likelihoodratios_df);\n",
    "                #print('rhonew = ' + str(rhonew))\n",
    "                previousrho = rhonew\n",
    "            #else:\n",
    "                #print('stop.')\n",
    "            #t=t+1;\n",
    "    \n",
    "    # declare that we will maximize the log likelihood\n",
    "    obj = cvx.Maximize(loglikelihood);\n",
    "\n",
    "    # force beta >=0 and alpha >=0. do this by building the identity matrix and eliminating botton rows\n",
    "    cnstrTemp = np.identity(n)\n",
    "    cnstrMtx = cnstrTemp[range(M,M+D),:]\n",
    "    \n",
    "    #\n",
    "    \n",
    "    # impose constraints one by one for the D aspects of alpha being non-negative\n",
    "    constraints = []\n",
    "    for i in range(D):\n",
    "        rowconstraint = np.reshape(cnstrMtx[i,:],(1,n));\n",
    "        constraints.append( rowconstraint*theta >= 0)\n",
    "    # impose constraints for U(p) >=0 and U''(p) <= 0\n",
    "    resolution = 50;\n",
    "    v = np.zeros(1)\n",
    "    for itr in range(1,resolution-1):\n",
    "        rowConstraintUNonneg = np.zeros((1,n));\n",
    "        rowConstraintUConcave = np.zeros((1,n));\n",
    "        v = itr\n",
    "        p = v/resolution\n",
    "        maxOrder = M-1\n",
    "        for k in range(M):\n",
    "            rowConstraintUNonneg[0][k] = bernstein_poly(k,maxOrder,p)\n",
    "            rowConstraintUConcave[0][k] = bernstein_poly_second_deriv(k,maxOrder,p)\n",
    "        rowConstraintA = np.reshape(rowConstraintUNonneg,(1,n));\n",
    "        rowConstraintB = np.reshape(rowConstraintUConcave,(1,n));\n",
    "        constraints.append( rowConstraintA*theta >= 0)\n",
    "        constraints.append( rowConstraintB*theta <= 0)\n",
    "    prob = cvx.Problem(obj, constraints)\n",
    "    result = prob.solve()    \n",
    "\n",
    "    \n",
    "    return theta, result"
   ]
  },
  {
   "cell_type": "code",
   "execution_count": 93,
   "metadata": {
    "collapsed": false
   },
   "outputs": [
    {
     "name": "stdout",
     "output_type": "stream",
     "text": [
      "for subject 12 max no of rounds = 58\n",
      "betastar=[[-0.45720614]\n",
      " [ 1.37996007]\n",
      " [ 0.82681624]\n",
      " [ 2.18227697]\n",
      " [ 1.70343729]\n",
      " [ 2.1576713 ]\n",
      " [ 1.82310172]\n",
      " [ 1.93940051]\n",
      " [ 0.71874288]]\n",
      "alphastar=[[ 4.08813515]\n",
      " [ 5.36703352]]\n"
     ]
    },
    {
     "data": {
      "image/png": "[encoded data removed]",
      "text/plain": [
       "<matplotlib.figure.Figure at 0x11b211160>"
      ]
     },
     "metadata": {},
     "output_type": "display_data"
    }
   ],
   "source": [
    "dataframe = prometheus_df[['Subject', 'round', 'taskchosen', 'clueindex', 'columnIndex', 'eventIndex']]\n",
    "# this is which subject we care about\n",
    "subject = 12;\n",
    "# K is the number of basis coefficients in the representation of the Q-function for continue\n",
    "K = 25;\n",
    "# M is number of coefficients for uncertainty basis\n",
    "M = 9;\n",
    "D = 2;\n",
    "returnVal = findMLestimateBernstein(subject,dataframe,K,M)\n",
    "\n",
    "#findMLestimateNew(subject,dataframe,K)\n",
    "thetastar = returnVal[0].value\n",
    "betastar = thetastar[range(M),0]\n",
    "alphastar = thetastar[range(M,M+D),0]\n",
    "loglikelihoodstar = returnVal[1]\n",
    "#print('thetastar='+ str(thetastar))\n",
    "print('betastar=' + str(betastar))\n",
    "print('alphastar=' + str(alphastar))\n",
    "#thetastar.shape\n",
    "resolution=50;\n",
    "maxOrder = M-1\n",
    "plot_bernstein(maxOrder,resolution,betastar)\n",
    "\n"
   ]
  },
  {
   "cell_type": "code",
   "execution_count": 94,
   "metadata": {
    "collapsed": false
   },
   "outputs": [
    {
     "name": "stdout",
     "output_type": "stream",
     "text": [
      "maximum second derivative: [          nan -107.05769326  -85.10432391  -67.29240191  -52.994348\n",
      "  -41.65412853  -32.78174851  -25.94796564  -20.77922553  -16.95281787\n",
      "  -14.19225377  -12.26286414  -10.96761914  -10.14316875   -9.65610431\n",
      "   -9.39944127   -9.28932294   -9.26194528   -9.2707029    -9.28355594\n",
      "   -9.28061824   -9.2519664    -9.19567004   -9.11604307   -9.02211606\n",
      "   -8.92632969   -8.84344927   -8.78970031   -8.78212521   -8.83816099\n",
      "   -8.97543815   -9.21180049   -9.56554615  -10.05588963  -10.70364492\n",
      "  -11.53212967  -12.56829052  -13.84404938  -15.39787091  -17.276551\n",
      "  -19.53722634  -22.2496051   -25.49841859  -29.38609416  -34.03564899\n",
      "  -39.5938051   -46.23432536  -54.16157059  -63.61427774           nan]\n"
     ]
    },
    {
     "data": {
      "image/png": "[encoded data removed]",
      "text/plain": [
       "<matplotlib.figure.Figure at 0x11b69f588>"
      ]
     },
     "metadata": {},
     "output_type": "display_data"
    }
   ],
   "source": [
    "plot_bernstein_secondDeriv(maxOrder,resolution,betastar)"
   ]
  },
  {
   "cell_type": "code",
   "execution_count": 78,
   "metadata": {
    "collapsed": false
   },
   "outputs": [
    {
     "name": "stdout",
     "output_type": "stream",
     "text": [
      "1\n",
      "2\n",
      "3\n",
      "4\n"
     ]
    }
   ],
   "source": [
    "for k in range(1,5):\n",
    "    print(k)"
   ]
  },
  {
   "cell_type": "code",
   "execution_count": null,
   "metadata": {
    "collapsed": true
   },
   "outputs": [],
   "source": []
  }
 ],
 "metadata": {
  "anaconda-cloud": {},
  "kernelspec": {
   "display_name": "Python [Root]",
   "language": "python",
   "name": "Python [Root]"
  },
  "language_info": {
   "codemirror_mode": {
    "name": "ipython",
    "version": 2
   },
   "file_extension": ".py",
   "mimetype": "text/x-python",
   "name": "python",
   "nbconvert_exporter": "python",
   "pygments_lexer": "ipython2",
   "version": "2.7.12"
  }
 },
 "nbformat": 4,
 "nbformat_minor": 0
}
